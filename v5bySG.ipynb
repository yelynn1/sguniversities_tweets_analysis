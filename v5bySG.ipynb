{
 "cells": [
  {
   "cell_type": "code",
   "execution_count": null,
   "metadata": {
    "scrolled": true
   },
   "outputs": [],
   "source": [
    "!pip install keras"
   ]
  },
  {
   "cell_type": "code",
   "execution_count": null,
   "metadata": {},
   "outputs": [],
   "source": [
    "!pip install tensorflow"
   ]
  },
  {
   "cell_type": "code",
   "execution_count": 30,
   "metadata": {},
   "outputs": [
    {
     "name": "stderr",
     "output_type": "stream",
     "text": [
      "C:\\Users\\koh swee guan\\Anaconda3\\lib\\site-packages\\tensorflow\\python\\framework\\dtypes.py:526: FutureWarning: Passing (type, 1) or '1type' as a synonym of type is deprecated; in a future version of numpy, it will be understood as (type, (1,)) / '(1,)type'.\n",
      "  _np_qint8 = np.dtype([(\"qint8\", np.int8, 1)])\n",
      "C:\\Users\\koh swee guan\\Anaconda3\\lib\\site-packages\\tensorflow\\python\\framework\\dtypes.py:527: FutureWarning: Passing (type, 1) or '1type' as a synonym of type is deprecated; in a future version of numpy, it will be understood as (type, (1,)) / '(1,)type'.\n",
      "  _np_quint8 = np.dtype([(\"quint8\", np.uint8, 1)])\n",
      "C:\\Users\\koh swee guan\\Anaconda3\\lib\\site-packages\\tensorflow\\python\\framework\\dtypes.py:528: FutureWarning: Passing (type, 1) or '1type' as a synonym of type is deprecated; in a future version of numpy, it will be understood as (type, (1,)) / '(1,)type'.\n",
      "  _np_qint16 = np.dtype([(\"qint16\", np.int16, 1)])\n",
      "C:\\Users\\koh swee guan\\Anaconda3\\lib\\site-packages\\tensorflow\\python\\framework\\dtypes.py:529: FutureWarning: Passing (type, 1) or '1type' as a synonym of type is deprecated; in a future version of numpy, it will be understood as (type, (1,)) / '(1,)type'.\n",
      "  _np_quint16 = np.dtype([(\"quint16\", np.uint16, 1)])\n",
      "C:\\Users\\koh swee guan\\Anaconda3\\lib\\site-packages\\tensorflow\\python\\framework\\dtypes.py:530: FutureWarning: Passing (type, 1) or '1type' as a synonym of type is deprecated; in a future version of numpy, it will be understood as (type, (1,)) / '(1,)type'.\n",
      "  _np_qint32 = np.dtype([(\"qint32\", np.int32, 1)])\n",
      "C:\\Users\\koh swee guan\\Anaconda3\\lib\\site-packages\\tensorflow\\python\\framework\\dtypes.py:535: FutureWarning: Passing (type, 1) or '1type' as a synonym of type is deprecated; in a future version of numpy, it will be understood as (type, (1,)) / '(1,)type'.\n",
      "  np_resource = np.dtype([(\"resource\", np.ubyte, 1)])\n",
      "Using TensorFlow backend.\n"
     ]
    }
   ],
   "source": [
    "import pandas as pd\n",
    "import re\n",
    "import pickle\n",
    "from tqdm import tqdm_notebook\n",
    "from bs4 import BeautifulSoup\n",
    "import matplotlib.pyplot as plt\n",
    "from sklearn.feature_extraction.text import CountVectorizer,TfidfTransformer\n",
    "from sklearn.feature_extraction.text import TfidfVectorizer\n",
    "from sklearn.naive_bayes import MultinomialNB\n",
    "from sklearn.linear_model import SGDClassifier\n",
    "from sklearn import svm\n",
    "from nltk.stem.porter import PorterStemmer\n",
    "from nltk.corpus import stopwords\n",
    "from nltk.tokenize import word_tokenize\n",
    "from sklearn.model_selection import train_test_split\n",
    "from sklearn.metrics import accuracy_score\n",
    "from sklearn.metrics import precision_score\n",
    "from sklearn.metrics import recall_score\n",
    "\n",
    "\n",
    "import os\n",
    "import tensorflow\n",
    "os.environ['KERAS_BACKEND'] = 'tensorflow'\n",
    "\n",
    "import keras\n",
    "from keras.models import Sequential\n",
    "from keras.layers import Dense, Embedding, LSTM, SpatialDropout1D\n",
    "from keras.preprocessing.text import Tokenizer\n",
    "from keras.preprocessing.sequence import pad_sequences\n",
    "\n",
    "import pandas as pd\n",
    "from termcolor import colored"
   ]
  },
  {
   "cell_type": "markdown",
   "metadata": {},
   "source": [
    "## Read data from sentiment 140"
   ]
  },
  {
   "cell_type": "code",
   "execution_count": null,
   "metadata": {},
   "outputs": [],
   "source": [
    "sentiment = pd.read_csv(\"sentiment140.csv\", encoding = \"ISO-8859-1\")\n",
    "sentiment.columns=['polarity','tweetid','date','nq','author','tweet']\n",
    "sentiment = sentiment.drop([\"tweetid\",\"date\",\"nq\",\"author\"],axis=1)"
   ]
  },
  {
   "cell_type": "markdown",
   "metadata": {},
   "source": [
    "### Understanding and Checking the dataset"
   ]
  },
  {
   "cell_type": "code",
   "execution_count": null,
   "metadata": {},
   "outputs": [],
   "source": [
    "sentiment.head()"
   ]
  },
  {
   "cell_type": "code",
   "execution_count": null,
   "metadata": {},
   "outputs": [],
   "source": [
    "sentiment.shape"
   ]
  },
  {
   "cell_type": "code",
   "execution_count": null,
   "metadata": {},
   "outputs": [],
   "source": [
    "# Check for missing data\n",
    "#traindata.isnull().values.any()\n",
    "print(\"There is {} missing values in train data frame\".format(sentiment.isnull().sum().sum()))"
   ]
  },
  {
   "cell_type": "code",
   "execution_count": null,
   "metadata": {},
   "outputs": [],
   "source": [
    "# Check for duplicate test data\n",
    "print(\"There is {} duplicated values in test data frame\".format(sentiment.duplicated().sum()))"
   ]
  },
  {
   "cell_type": "code",
   "execution_count": null,
   "metadata": {},
   "outputs": [],
   "source": [
    "duplicated = sentiment[sentiment.duplicated(keep=False)]\n",
    "duplicated.head(4) # Show us just 2 duplications"
   ]
  },
  {
   "cell_type": "code",
   "execution_count": null,
   "metadata": {},
   "outputs": [],
   "source": [
    "# Remove duplicates\n",
    "sentiment.drop_duplicates(inplace=True)\n",
    "\n",
    "# Confirm the removal\n",
    "print(\"There is {} duplicated values in data frame\".format(sentiment.duplicated().sum()))\n",
    "sentiment.shape"
   ]
  },
  {
   "cell_type": "code",
   "execution_count": null,
   "metadata": {},
   "outputs": [],
   "source": [
    "sentiment.polarity.value_counts().plot(kind=\"bar\",subplots=\"True\")\n",
    "plt.show()"
   ]
  },
  {
   "cell_type": "markdown",
   "metadata": {},
   "source": [
    "## Functions for cleaning the tweets"
   ]
  },
  {
   "cell_type": "code",
   "execution_count": 31,
   "metadata": {},
   "outputs": [],
   "source": [
    "stop_words = set(stopwords.words('english'))\n",
    "stop_words.remove(\"not\")\n",
    "\n",
    "\n",
    "def cleanText(s):\n",
    "    bad_chars = [';', ':', '!', '*', '(' , ')', '&','[',']','.','?','{','}',',']\n",
    "    non_ascii = \"\".join(i for i in s if ord(i)< 128)\n",
    "    \n",
    "    html_decoded_string = BeautifulSoup(non_ascii, \"lxml\")\n",
    "    string = html_decoded_string.string\n",
    "    \n",
    "    non_name = \" \".join((filter(lambda x:x[0]!='@', string.split())))\n",
    "    non_badchars = ''.join(filter(lambda i: i not in bad_chars, non_name))\n",
    "    non_links = re.sub(r\"http\\S+\", \"\", non_badchars)\n",
    "    non_websites = re.sub(r\"www.[^ ]+\",\"\",non_links)\n",
    "    non_numbers = re.sub(r\"[0-9]+\",\"\",non_websites)\n",
    "    \n",
    "    clean = stopwords_stem(non_numbers)\n",
    "    clean = decontracted(clean)\n",
    "    \n",
    "    return clean\n",
    "\n",
    "def decontracted(phrase):\n",
    "    # specific\n",
    "    phrase = re.sub(r\"won\\'t\", \"will not\", phrase)\n",
    "    phrase = re.sub(r\"can\\'t\", \"can not\", phrase)\n",
    "\n",
    "    # general\n",
    "    phrase = re.sub(r\"n\\'t\", \" not\", phrase)\n",
    "    phrase = re.sub(r\"\\'re\", \" are\", phrase)\n",
    "    phrase = re.sub(r\"\\'s\", \" is\", phrase)\n",
    "    phrase = re.sub(r\"\\'d\", \" would\", phrase)\n",
    "    phrase = re.sub(r\"\\'ll\", \" will\", phrase)\n",
    "    phrase = re.sub(r\"\\'t\", \" not\", phrase)\n",
    "    phrase = re.sub(r\"\\'ve\", \" have\", phrase)\n",
    "    phrase = re.sub(r\"\\'m\", \" am\", phrase)\n",
    "    return phrase\n",
    "\n",
    "def stopwords_stem(document): \n",
    "    words = word_tokenize(document)\n",
    "    words = removeStopwords(words)\n",
    "    words = stemWords(words)\n",
    "    result = \"\"\n",
    "    for word in words:\n",
    "        result += word + \" \"\n",
    "    return result\n",
    "\n",
    "def removeStopwords(document):\n",
    "    result = []\n",
    "    for word in document:\n",
    "        if word not in stop_words:\n",
    "            result.append(word)\n",
    "    return result\n",
    "\n",
    "def stemWords(document):\n",
    "    \"\"\"Stem words in list of tokenized words\"\"\"\n",
    "    stemmer = PorterStemmer()\n",
    "    result = []\n",
    "    for word in document:\n",
    "        stem = stemmer.stem(word)\n",
    "        result.append(stem)\n",
    "    return result\n",
    "\n"
   ]
  },
  {
   "cell_type": "markdown",
   "metadata": {},
   "source": [
    "## Cleaning tweets from dataframe and transform to list\n",
    "#### Can skip if load from disk (below)"
   ]
  },
  {
   "cell_type": "code",
   "execution_count": null,
   "metadata": {
    "scrolled": true
   },
   "outputs": [],
   "source": [
    "tweets = sentiment.tweet\n",
    "print(\"Cleaning Tweets: \")\n",
    "tweets = [cleanText(t) for t in tqdm_notebook(tweets)]\n",
    "polarity = sentiment.polarity"
   ]
  },
  {
   "cell_type": "markdown",
   "metadata": {},
   "source": [
    "### Save the processed tweets for later use"
   ]
  },
  {
   "cell_type": "code",
   "execution_count": null,
   "metadata": {},
   "outputs": [],
   "source": [
    "with open('tweets.pickle', 'wb') as f:\n",
    "    pickle.dump(tweets, f)\n",
    "with open('polarity.pickle', 'wb') as f:\n",
    "    pickle.dump(polarity, f)"
   ]
  },
  {
   "cell_type": "markdown",
   "metadata": {},
   "source": [
    "### Load from saved files"
   ]
  },
  {
   "cell_type": "code",
   "execution_count": null,
   "metadata": {},
   "outputs": [],
   "source": [
    "with open('tweets.pickle', 'rb') as f:\n",
    "    tweets = pickle.load(f)\n",
    "with open('polarity.pickle', 'rb') as f:\n",
    "    polarity = pickle.load(f)"
   ]
  },
  {
   "cell_type": "code",
   "execution_count": null,
   "metadata": {},
   "outputs": [],
   "source": [
    "for i in range(5):\n",
    "    print(sentiment.tweet[i])\n",
    "    print(tweets[i]+\"\\n\")"
   ]
  },
  {
   "cell_type": "code",
   "execution_count": null,
   "metadata": {},
   "outputs": [],
   "source": []
  },
  {
   "cell_type": "markdown",
   "metadata": {},
   "source": [
    "# TrainTestSplitToCSV"
   ]
  },
  {
   "cell_type": "code",
   "execution_count": null,
   "metadata": {},
   "outputs": [],
   "source": [
    "# Train test split\n",
    "print(colored(\"Splitting train and test dataset into 80:20\", \"yellow\"))\n",
    "X_train, X_test, y_train, y_test = train_test_split(tweets, polarity, test_size = 0.2, random_state = 123)\n",
    "train_dataset = pd.DataFrame({\n",
    "    'Tweet': X_train,\n",
    "    'Sentiment': y_train\n",
    "    })\n",
    "print(colored(\"Train data distribution:\", \"yellow\"))\n",
    "print(train_dataset['Sentiment'].value_counts())\n",
    "test_dataset = pd.DataFrame({\n",
    "    'Tweet': X_test,\n",
    "    'Sentiment': y_test\n",
    "    })\n",
    "print(colored(\"Test data distribution:\", \"yellow\"))\n",
    "print(test_dataset['Sentiment'].value_counts())\n",
    "print(colored(\"Split complete\", \"yellow\"))\n",
    "\n",
    "# Save train data\n",
    "print(colored(\"Saving train data\", \"yellow\"))\n",
    "\n",
    "train_dataset.to_csv('train.csv', index = False)\n",
    "print(colored(\"Train data saved to TrainTestSplitCSV/train.csv\", \"green\"))\n",
    "\n",
    "# Save test data\n",
    "print(colored(\"Saving test data\", \"yellow\"))\n",
    "test_dataset.to_csv('test.csv', index = False)\n",
    "print(colored(\"Test data saved to TrainTestSplitCSV/test.csv\", \"green\"))"
   ]
  },
  {
   "cell_type": "code",
   "execution_count": null,
   "metadata": {},
   "outputs": [],
   "source": [
    "# Train test split\n",
    "print(colored(\"Splitting train and test dataset into 75:25\", \"yellow\"))\n",
    "X_train, X_test, y_train, y_test = train_test_split(tweets, polarity, test_size = 0.25, random_state = 123)\n",
    "train_dataset = pd.DataFrame({\n",
    "    'Tweet': X_train,\n",
    "    'Sentiment': y_train\n",
    "    })\n",
    "print(colored(\"Train data distribution:\", \"yellow\"))\n",
    "print(train_dataset['Sentiment'].value_counts())\n",
    "test_dataset = pd.DataFrame({\n",
    "    'Tweet': X_test,\n",
    "    'Sentiment': y_test\n",
    "    })\n",
    "print(colored(\"Test data distribution:\", \"yellow\"))\n",
    "print(test_dataset['Sentiment'].value_counts())\n",
    "print(colored(\"Split complete\", \"yellow\"))\n",
    "\n",
    "# Save train data\n",
    "print(colored(\"Saving train data\", \"yellow\"))\n",
    "\n",
    "train_dataset.to_csv('train.csv', index = False)\n",
    "print(colored(\"Train data saved to TrainTestSplitCSV/train.csv\", \"green\"))\n",
    "\n",
    "# Save test data\n",
    "print(colored(\"Saving test data\", \"yellow\"))\n",
    "test_dataset.to_csv('test.csv', index = False)\n",
    "print(colored(\"Test data saved to TrainTestSplitCSV/test.csv\", \"green\"))"
   ]
  },
  {
   "cell_type": "markdown",
   "metadata": {},
   "source": [
    "### TF-IDF Vectorizer (SG)"
   ]
  },
  {
   "cell_type": "code",
   "execution_count": 2,
   "metadata": {},
   "outputs": [
    {
     "name": "stdout",
     "output_type": "stream",
     "text": [
      "(1266952, 2)\n"
     ]
    },
    {
     "data": {
      "text/html": [
       "<div>\n",
       "<style scoped>\n",
       "    .dataframe tbody tr th:only-of-type {\n",
       "        vertical-align: middle;\n",
       "    }\n",
       "\n",
       "    .dataframe tbody tr th {\n",
       "        vertical-align: top;\n",
       "    }\n",
       "\n",
       "    .dataframe thead th {\n",
       "        text-align: right;\n",
       "    }\n",
       "</style>\n",
       "<table border=\"1\" class=\"dataframe\">\n",
       "  <thead>\n",
       "    <tr style=\"text-align: right;\">\n",
       "      <th></th>\n",
       "      <th>Tweet</th>\n",
       "      <th>Sentiment</th>\n",
       "    </tr>\n",
       "  </thead>\n",
       "  <tbody>\n",
       "    <tr>\n",
       "      <th>0</th>\n",
       "      <td>say `` free eyeshadow '' make miss old class e...</td>\n",
       "      <td>0</td>\n",
       "    </tr>\n",
       "    <tr>\n",
       "      <th>1</th>\n",
       "      <td>with girl peter</td>\n",
       "      <td>4</td>\n",
       "    </tr>\n",
       "    <tr>\n",
       "      <th>2</th>\n",
       "      <td>email friend andrea boston hope email back u g...</td>\n",
       "      <td>0</td>\n",
       "    </tr>\n",
       "    <tr>\n",
       "      <th>3</th>\n",
       "      <td>thank niceapart work one girl gave pressi ever...</td>\n",
       "      <td>4</td>\n",
       "    </tr>\n",
       "    <tr>\n",
       "      <th>4</th>\n",
       "      <td>did manag sort anoth flight you crack</td>\n",
       "      <td>4</td>\n",
       "    </tr>\n",
       "  </tbody>\n",
       "</table>\n",
       "</div>"
      ],
      "text/plain": [
       "                                               Tweet  Sentiment\n",
       "0  say `` free eyeshadow '' make miss old class e...          0\n",
       "1                                   with girl peter           4\n",
       "2  email friend andrea boston hope email back u g...          0\n",
       "3  thank niceapart work one girl gave pressi ever...          4\n",
       "4             did manag sort anoth flight you crack           4"
      ]
     },
     "execution_count": 2,
     "metadata": {},
     "output_type": "execute_result"
    }
   ],
   "source": [
    "import pandas as pd\n",
    "import re\n",
    "import pickle\n",
    "from tqdm import tqdm_notebook\n",
    "train = pd.read_csv(\"train.csv\", encoding = \"ISO-8859-1\")\n",
    "print (train.shape)\n",
    "train.head()"
   ]
  },
  {
   "cell_type": "code",
   "execution_count": 3,
   "metadata": {},
   "outputs": [
    {
     "name": "stdout",
     "output_type": "stream",
     "text": [
      "(316738, 2)\n"
     ]
    },
    {
     "data": {
      "text/html": [
       "<div>\n",
       "<style scoped>\n",
       "    .dataframe tbody tr th:only-of-type {\n",
       "        vertical-align: middle;\n",
       "    }\n",
       "\n",
       "    .dataframe tbody tr th {\n",
       "        vertical-align: top;\n",
       "    }\n",
       "\n",
       "    .dataframe thead th {\n",
       "        text-align: right;\n",
       "    }\n",
       "</style>\n",
       "<table border=\"1\" class=\"dataframe\">\n",
       "  <thead>\n",
       "    <tr style=\"text-align: right;\">\n",
       "      <th></th>\n",
       "      <th>Tweet</th>\n",
       "      <th>Sentiment</th>\n",
       "    </tr>\n",
       "  </thead>\n",
       "  <tbody>\n",
       "    <tr>\n",
       "      <th>0</th>\n",
       "      <td>I drop phoner bad dropnot good and I smartli d...</td>\n",
       "      <td>0</td>\n",
       "    </tr>\n",
       "    <tr>\n",
       "      <th>1</th>\n",
       "      <td>apa lagi kalo musiknya tranc n  is rave parti ...</td>\n",
       "      <td>4</td>\n",
       "    </tr>\n",
       "    <tr>\n",
       "      <th>2</th>\n",
       "      <td>chase left hayley come gatlinburg</td>\n",
       "      <td>0</td>\n",
       "    </tr>\n",
       "    <tr>\n",
       "      <th>3</th>\n",
       "      <td>out dinner fun sun boy</td>\n",
       "      <td>4</td>\n",
       "    </tr>\n",
       "    <tr>\n",
       "      <th>4</th>\n",
       "      <td>star trek excel who care time travel stuff com...</td>\n",
       "      <td>4</td>\n",
       "    </tr>\n",
       "  </tbody>\n",
       "</table>\n",
       "</div>"
      ],
      "text/plain": [
       "                                               Tweet  Sentiment\n",
       "0  I drop phoner bad dropnot good and I smartli d...          0\n",
       "1  apa lagi kalo musiknya tranc n  is rave parti ...          4\n",
       "2                 chase left hayley come gatlinburg           0\n",
       "3                            out dinner fun sun boy           4\n",
       "4  star trek excel who care time travel stuff com...          4"
      ]
     },
     "execution_count": 3,
     "metadata": {},
     "output_type": "execute_result"
    }
   ],
   "source": [
    "test = pd.read_csv(\"test.csv\")\n",
    "print (test.shape)\n",
    "test.head()"
   ]
  },
  {
   "cell_type": "code",
   "execution_count": 4,
   "metadata": {},
   "outputs": [],
   "source": [
    "#train.dtypes"
   ]
  },
  {
   "cell_type": "code",
   "execution_count": null,
   "metadata": {},
   "outputs": [],
   "source": [
    "# Check for duplicate train data\n",
    "#print(\"There is {} duplicated values in train data frame\".format(train.duplicated().sum()))"
   ]
  },
  {
   "cell_type": "code",
   "execution_count": null,
   "metadata": {},
   "outputs": [],
   "source": [
    "# Check for duplicate test data\n",
    "#print(\"There is {} duplicated values in test data frame\".format(test.duplicated().sum()))"
   ]
  },
  {
   "cell_type": "code",
   "execution_count": null,
   "metadata": {},
   "outputs": [],
   "source": [
    "#duplicated = train[train.duplicated(keep=False)]\n",
    "#duplicated.head(10) # Show us just 2 duplications"
   ]
  },
  {
   "cell_type": "code",
   "execution_count": null,
   "metadata": {},
   "outputs": [],
   "source": [
    "# Check for missing data\n",
    "#traindata.isnull().values.any()\n",
    "#print(\"There is {} missing values in train data frame\".format(train.isnull().sum().sum()))\n",
    "#print(\"There is {} missing values in test data frame\".format(test.isnull().sum().sum()))"
   ]
  },
  {
   "cell_type": "code",
   "execution_count": 5,
   "metadata": {},
   "outputs": [
    {
     "name": "stdout",
     "output_type": "stream",
     "text": [
      "(1266952, 2)\n",
      "(1262467, 2)\n",
      "There is 0 missing values in train data frame\n"
     ]
    }
   ],
   "source": [
    "# Remove null from train data\n",
    "print (train.shape)\n",
    "train = train.dropna()\n",
    "#df = df.dropna(axis=0, subset=['Charge_Per_Line'])\n",
    "print (train.shape)\n",
    "print(\"There is {} missing values in train data frame\".format(train.isnull().sum().sum()))"
   ]
  },
  {
   "cell_type": "code",
   "execution_count": 6,
   "metadata": {},
   "outputs": [
    {
     "name": "stdout",
     "output_type": "stream",
     "text": [
      "(316738, 2)\n",
      "(315689, 2)\n",
      "There is 0 missing values in train data frame\n"
     ]
    }
   ],
   "source": [
    "# Remove null from test data\n",
    "print (test.shape)\n",
    "test = test.dropna()\n",
    "print (test.shape)\n",
    "print(\"There is {} missing values in train data frame\".format(train.isnull().sum().sum()))"
   ]
  },
  {
   "cell_type": "code",
   "execution_count": 7,
   "metadata": {},
   "outputs": [],
   "source": [
    "x_train = train['Tweet']\n",
    "y_train = train['Sentiment']\n",
    "x_test = test[\"Tweet\"]\n",
    "y_test = test['Sentiment']"
   ]
  },
  {
   "cell_type": "code",
   "execution_count": null,
   "metadata": {},
   "outputs": [],
   "source": []
  },
  {
   "cell_type": "code",
   "execution_count": 8,
   "metadata": {},
   "outputs": [
    {
     "name": "stdout",
     "output_type": "stream",
     "text": [
      "(1262467,) (315689,)\n",
      "(1262467,) (315689,)\n"
     ]
    }
   ],
   "source": [
    "print (x_train.shape, x_test.shape)\n",
    "print (y_train.shape, y_test.shape)"
   ]
  },
  {
   "cell_type": "code",
   "execution_count": 18,
   "metadata": {},
   "outputs": [],
   "source": [
    "from sklearn.feature_extraction.text import TfidfVectorizer\n",
    "# Create feature vectors\n",
    "#vectorizer = TfidfVectorizer(min_df = 5, max_df = 0.8, sublinear_tf = True, use_idf = True)\n",
    "ngram = (1,2)\n",
    "vectorizer = TfidfVectorizer(ngram_range = ngram)\n",
    "#train_vector = tfidf_ngram_vectorizer.fit_transform(tweets)\n",
    "\n",
    "train_vectors = vectorizer.fit_transform(x_train)\n",
    "test_vectors = vectorizer.transform(x_test)\n",
    "#kagtest_vectors = vectorizer.transform(testdata['Comment'])"
   ]
  },
  {
   "cell_type": "markdown",
   "metadata": {},
   "source": [
    "## Exploring with Different Classifcation Models (SG)\n",
    "As a few models are done at the same time, this part of the program do take a while."
   ]
  },
  {
   "cell_type": "code",
   "execution_count": 19,
   "metadata": {},
   "outputs": [
    {
     "name": "stdout",
     "output_type": "stream",
     "text": [
      "Naive Bayes testing accuracy 0.78625\n",
      "Logistic Regression testing accuracy 0.80435\n",
      "Decision Tree testing accuracy 0.61716\n"
     ]
    }
   ],
   "source": [
    "from sklearn.naive_bayes import MultinomialNB\n",
    "from sklearn.svm import SVC\n",
    "from sklearn.linear_model import LogisticRegression\n",
    "from sklearn.tree import DecisionTreeClassifier\n",
    "from sklearn.ensemble import RandomForestClassifier\n",
    "from sklearn.neighbors import KNeighborsClassifier\n",
    "from sklearn.ensemble import AdaBoostClassifier\n",
    "from sklearn.neural_network import MLPClassifier\n",
    "from sklearn.ensemble import ExtraTreesClassifier\n",
    "from sklearn.ensemble import GradientBoostingClassifier\n",
    "from xgboost import XGBClassifier\n",
    "from sklearn.metrics import accuracy_score\n",
    "from sklearn.metrics import f1_score\n",
    "import time\n",
    "import csv\n",
    "\n",
    "nb = MultinomialNB()\n",
    "svm = SVC(kernel='linear')\n",
    "# GridSearchCV Optimised \n",
    "#svm = SVC(kernel='rbf')\n",
    "lr = LogisticRegression( class_weight=\"balanced\", random_state=42, solver='liblinear', max_iter=10000, C = 1, penalty= 'l2')\n",
    "# GridSearchCV Optimised \n",
    "#lr = LogisticRegression( class_weight=\"balanced\", random_state=42, solver='liblinear', max_iter=10000, C = 0.25, penalty= 'l2')\n",
    "dt = DecisionTreeClassifier(max_depth=8, min_samples_split=50, min_samples_leaf=50, random_state=13)\n",
    "rf = RandomForestClassifier(n_estimators=100)\n",
    "knn = KNeighborsClassifier(n_neighbors=100)\n",
    "ada = AdaBoostClassifier(n_estimators=100)\n",
    "mlp = MLPClassifier(hidden_layer_sizes=(150,100,50), activation='relu', solver='adam', max_iter=100)\n",
    "et = ExtraTreesClassifier(n_estimators = 100)          \n",
    "gb = GradientBoostingClassifier(n_estimators = 100)    \n",
    "xgb = XGBClassifier(n_estimators= 2000, learning_rate=0.01)\n",
    "\n",
    "# define models\n",
    "#models = {\"Naive Bayes\" : nb,\n",
    "#          \"SVM\" : svm,\n",
    "#          \"Logistic Regression\" : lr,\n",
    "#          \"Decision Tree\" : dt,\n",
    "#          \"Random Forest\" : rf,\n",
    "#          \"KNeighborst\" : knn,\n",
    "#          \"AdaBoost\" : ada,\n",
    "#          \"Multi-Layer Perceptron\" : mlp,\n",
    "#          \"Extra Trees\" : et,\n",
    "#          \"Gradient Boosting\" : gb,\n",
    "#          \"Extreme Gradient Boosting\" : xgb}\n",
    "models = {\"Naive Bayes\" : nb,\n",
    "          \"Logistic Regression\" : lr,\n",
    "          \"Decision Tree\" : dt}\n",
    "\n",
    "# Open file to write result of various models \n",
    "csvFile = open(\"result.csv\", 'w+', newline='')\n",
    "writer = csv.writer(csvFile)\n",
    "writer.writerow(('Model','Accuracy(train)','Accuracy(test)','Time'))\n",
    "\n",
    "# iterate through all models\n",
    "\n",
    "for key, value in models.items():   \n",
    "    start_time = time.time()\n",
    "    model = value\n",
    "\n",
    "    # fit & predict training score\n",
    "    model.fit(train_vectors, y_train)\n",
    "    y_train_predict = model.predict(train_vectors)\n",
    "    y_test_predict = model.predict(test_vectors)\n",
    "    \n",
    "    accuracy1 = round(accuracy_score(y_train, y_train_predict), 5)\n",
    "    accuracy2 = round(accuracy_score(y_test, y_test_predict), 5)\n",
    "#    accuracy3 = round(f1_score(y_test, y_test_predict), 5)\n",
    "    print (key, 'testing accuracy', accuracy2)\n",
    "    end_time = time.time()\n",
    "    elapsed_time = round((end_time - start_time), 5)\n",
    "\n",
    "    # Write result to file\n",
    "    writer.writerow ((key, accuracy1, accuracy2, elapsed_time))\n",
    "\n",
    "    # save the model to disk\n",
    "    #filename = 'finalized_model.sav'\n",
    "    filename = key + '_model.sav'\n",
    "    pickle.dump(model, open(filename, 'wb'))\n",
    "    \n",
    "#    # Make predictions on test data\n",
    "#    kag_y_test_predict = model.predict(kagtest_vectors)\n",
    "    \n",
    "#    # Prepare submission file   \n",
    "#    testdata['Outcome'] = kag_y_test_predict\n",
    "#    df_submit = testdata[['Id', 'Outcome']]\n",
    "#    filename = key + '_10.csv'\n",
    "#    df_submit.to_csv(filename, index=False, header=True)\n",
    "\n",
    "### CLOSE CSV FILE\n",
    "csvFile.close()"
   ]
  },
  {
   "cell_type": "code",
   "execution_count": 20,
   "metadata": {},
   "outputs": [
    {
     "data": {
      "text/html": [
       "<div>\n",
       "<style scoped>\n",
       "    .dataframe tbody tr th:only-of-type {\n",
       "        vertical-align: middle;\n",
       "    }\n",
       "\n",
       "    .dataframe tbody tr th {\n",
       "        vertical-align: top;\n",
       "    }\n",
       "\n",
       "    .dataframe thead th {\n",
       "        text-align: right;\n",
       "    }\n",
       "</style>\n",
       "<table border=\"1\" class=\"dataframe\">\n",
       "  <thead>\n",
       "    <tr style=\"text-align: right;\">\n",
       "      <th></th>\n",
       "      <th>Accuracy(train)</th>\n",
       "      <th>Accuracy(test)</th>\n",
       "      <th>Time</th>\n",
       "    </tr>\n",
       "    <tr>\n",
       "      <th>Model</th>\n",
       "      <th></th>\n",
       "      <th></th>\n",
       "      <th></th>\n",
       "    </tr>\n",
       "  </thead>\n",
       "  <tbody>\n",
       "    <tr>\n",
       "      <th>Logistic Regression</th>\n",
       "      <td>0.86243</td>\n",
       "      <td>0.80435</td>\n",
       "      <td>42.32039</td>\n",
       "    </tr>\n",
       "    <tr>\n",
       "      <th>Naive Bayes</th>\n",
       "      <td>0.89943</td>\n",
       "      <td>0.78625</td>\n",
       "      <td>1.13861</td>\n",
       "    </tr>\n",
       "    <tr>\n",
       "      <th>Decision Tree</th>\n",
       "      <td>0.61743</td>\n",
       "      <td>0.61716</td>\n",
       "      <td>64.05016</td>\n",
       "    </tr>\n",
       "  </tbody>\n",
       "</table>\n",
       "</div>"
      ],
      "text/plain": [
       "                     Accuracy(train)  Accuracy(test)      Time\n",
       "Model                                                         \n",
       "Logistic Regression          0.86243         0.80435  42.32039\n",
       "Naive Bayes                  0.89943         0.78625   1.13861\n",
       "Decision Tree                0.61743         0.61716  64.05016"
      ]
     },
     "execution_count": 20,
     "metadata": {},
     "output_type": "execute_result"
    }
   ],
   "source": [
    "# Read result file from CSV\n",
    "result = pd.read_csv(\"result.csv\")\n",
    "\n",
    "# sort by testing accuracy\n",
    "result.sort_values(by=[\"Accuracy(test)\"], axis=0 ,ascending=False, inplace=True)\n",
    "result.set_index('Model')\n",
    "\n",
    "# TF-IDF\n",
    "#Logistic Regression\t0.79415\t0.78469\t11.47858\n",
    "#Naive Bayes        \t0.77418\t0.76226\t0.47203\n",
    "#Decision Tree      \t0.61696\t0.61683\t21.06831\n",
    "\n",
    "# TF-IDF (ngrams)\n",
    "#ngram = (1,2)\n",
    "#vectorizer = TfidfVectorizer(ngram_range = ngram)\n",
    "Logistic Regression \t0.86243\t0.80435\t42.32039\n",
    "Naive Bayes         \t0.89943\t0.78625\t1.13861\n",
    "Decision Tree       \t0.61743\t0.61716\t64.05016"
   ]
  },
  {
   "cell_type": "code",
   "execution_count": 17,
   "metadata": {},
   "outputs": [
    {
     "name": "stdout",
     "output_type": "stream",
     "text": [
      "Graph showing the Testing Accuracy for the various models\n"
     ]
    },
    {
     "data": {
      "image/png": "[encoded data removed]",
      "text/plain": [
       "<Figure size 720x360 with 1 Axes>"
      ]
     },
     "metadata": {
      "needs_background": "light"
     },
     "output_type": "display_data"
    }
   ],
   "source": [
    "import seaborn as sns\n",
    "#from matplotlib import pyplot as plt\n",
    "import matplotlib.pyplot as plt\n",
    "# Plot testing accuracy for various models\n",
    "plt.figure(figsize=(10,5))\n",
    "sns.barplot(x=result['Model'],y=result[\"Accuracy(test)\"])\n",
    "plt.xticks(rotation=45) # Rotation of model names\n",
    "print ('Graph showing the Testing Accuracy for the various models')"
   ]
  },
  {
   "cell_type": "code",
   "execution_count": 21,
   "metadata": {},
   "outputs": [
    {
     "data": {
      "text/html": [
       "<div>\n",
       "<style scoped>\n",
       "    .dataframe tbody tr th:only-of-type {\n",
       "        vertical-align: middle;\n",
       "    }\n",
       "\n",
       "    .dataframe tbody tr th {\n",
       "        vertical-align: top;\n",
       "    }\n",
       "\n",
       "    .dataframe thead th {\n",
       "        text-align: right;\n",
       "    }\n",
       "</style>\n",
       "<table border=\"1\" class=\"dataframe\">\n",
       "  <thead>\n",
       "    <tr style=\"text-align: right;\">\n",
       "      <th></th>\n",
       "      <th>Accuracy(train)</th>\n",
       "      <th>Accuracy(test)</th>\n",
       "      <th>Time</th>\n",
       "    </tr>\n",
       "    <tr>\n",
       "      <th>Model</th>\n",
       "      <th></th>\n",
       "      <th></th>\n",
       "      <th></th>\n",
       "    </tr>\n",
       "  </thead>\n",
       "  <tbody>\n",
       "    <tr>\n",
       "      <th>Naive Bayes</th>\n",
       "      <td>0.89943</td>\n",
       "      <td>0.78625</td>\n",
       "      <td>1.13861</td>\n",
       "    </tr>\n",
       "    <tr>\n",
       "      <th>Logistic Regression</th>\n",
       "      <td>0.86243</td>\n",
       "      <td>0.80435</td>\n",
       "      <td>42.32039</td>\n",
       "    </tr>\n",
       "    <tr>\n",
       "      <th>Decision Tree</th>\n",
       "      <td>0.61743</td>\n",
       "      <td>0.61716</td>\n",
       "      <td>64.05016</td>\n",
       "    </tr>\n",
       "  </tbody>\n",
       "</table>\n",
       "</div>"
      ],
      "text/plain": [
       "                     Accuracy(train)  Accuracy(test)      Time\n",
       "Model                                                         \n",
       "Naive Bayes                  0.89943         0.78625   1.13861\n",
       "Logistic Regression          0.86243         0.80435  42.32039\n",
       "Decision Tree                0.61743         0.61716  64.05016"
      ]
     },
     "execution_count": 21,
     "metadata": {},
     "output_type": "execute_result"
    }
   ],
   "source": [
    "# Read result file from CSV\n",
    "result = pd.read_csv(\"result.csv\")\n",
    "\n",
    "# sort by training accuracy\n",
    "result.sort_values(by=[\"Accuracy(train)\"], axis=0 ,ascending=False, inplace=True)\n",
    "result.set_index('Model')"
   ]
  },
  {
   "cell_type": "code",
   "execution_count": 22,
   "metadata": {},
   "outputs": [
    {
     "name": "stdout",
     "output_type": "stream",
     "text": [
      "Graph showing the Training Accuracy for the various models\n"
     ]
    },
    {
     "data": {
      "image/png": "[encoded data removed]",
      "text/plain": [
       "<Figure size 720x360 with 1 Axes>"
      ]
     },
     "metadata": {
      "needs_background": "light"
     },
     "output_type": "display_data"
    }
   ],
   "source": [
    "# Plot training accuracy for various models\n",
    "plt.figure(figsize=(10,5))\n",
    "sns.barplot(x=result['Model'],y=result[\"Accuracy(train)\"])\n",
    "plt.xticks(rotation=45) # Rotation of model names\n",
    "print ('Graph showing the Training Accuracy for the various models')"
   ]
  },
  {
   "cell_type": "code",
   "execution_count": 23,
   "metadata": {},
   "outputs": [
    {
     "data": {
      "text/html": [
       "<div>\n",
       "<style scoped>\n",
       "    .dataframe tbody tr th:only-of-type {\n",
       "        vertical-align: middle;\n",
       "    }\n",
       "\n",
       "    .dataframe tbody tr th {\n",
       "        vertical-align: top;\n",
       "    }\n",
       "\n",
       "    .dataframe thead th {\n",
       "        text-align: right;\n",
       "    }\n",
       "</style>\n",
       "<table border=\"1\" class=\"dataframe\">\n",
       "  <thead>\n",
       "    <tr style=\"text-align: right;\">\n",
       "      <th></th>\n",
       "      <th>Accuracy(train)</th>\n",
       "      <th>Accuracy(test)</th>\n",
       "      <th>Time</th>\n",
       "    </tr>\n",
       "    <tr>\n",
       "      <th>Model</th>\n",
       "      <th></th>\n",
       "      <th></th>\n",
       "      <th></th>\n",
       "    </tr>\n",
       "  </thead>\n",
       "  <tbody>\n",
       "    <tr>\n",
       "      <th>Naive Bayes</th>\n",
       "      <td>0.89943</td>\n",
       "      <td>0.78625</td>\n",
       "      <td>1.13861</td>\n",
       "    </tr>\n",
       "    <tr>\n",
       "      <th>Logistic Regression</th>\n",
       "      <td>0.86243</td>\n",
       "      <td>0.80435</td>\n",
       "      <td>42.32039</td>\n",
       "    </tr>\n",
       "    <tr>\n",
       "      <th>Decision Tree</th>\n",
       "      <td>0.61743</td>\n",
       "      <td>0.61716</td>\n",
       "      <td>64.05016</td>\n",
       "    </tr>\n",
       "  </tbody>\n",
       "</table>\n",
       "</div>"
      ],
      "text/plain": [
       "                     Accuracy(train)  Accuracy(test)      Time\n",
       "Model                                                         \n",
       "Naive Bayes                  0.89943         0.78625   1.13861\n",
       "Logistic Regression          0.86243         0.80435  42.32039\n",
       "Decision Tree                0.61743         0.61716  64.05016"
      ]
     },
     "execution_count": 23,
     "metadata": {},
     "output_type": "execute_result"
    }
   ],
   "source": [
    "# sort by timing\n",
    "result.sort_values(by=[\"Time\"], axis=0 ,ascending=True, inplace=True)\n",
    "result.set_index('Model')"
   ]
  },
  {
   "cell_type": "code",
   "execution_count": 24,
   "metadata": {},
   "outputs": [
    {
     "name": "stdout",
     "output_type": "stream",
     "text": [
      "Graph showing the processing time for the various models\n"
     ]
    },
    {
     "data": {
      "image/png": "[encoded data removed]",
      "text/plain": [
       "<Figure size 720x360 with 1 Axes>"
      ]
     },
     "metadata": {
      "needs_background": "light"
     },
     "output_type": "display_data"
    }
   ],
   "source": [
    "# Plot training time for various models\n",
    "plt.figure(figsize=(10,5))\n",
    "sns.barplot(x=result['Model'],y=result[\"Time\"])\n",
    "plt.xticks(rotation=45) # Rotation of model names\n",
    "\n",
    "print ('Graph showing the processing time for the various models')"
   ]
  },
  {
   "cell_type": "markdown",
   "metadata": {},
   "source": [
    "### The program shows that Algorithm xxx produces the best testing accuracy"
   ]
  },
  {
   "cell_type": "code",
   "execution_count": null,
   "metadata": {},
   "outputs": [],
   "source": [
    "# Optimizing the Hyperparameters of Logistic Regression"
   ]
  },
  {
   "cell_type": "code",
   "execution_count": null,
   "metadata": {},
   "outputs": [],
   "source": [
    "#Step 1 : determine the best kernel\n",
    "from sklearn.linear_model import LogisticRegression\n",
    "from sklearn.model_selection import GridSearchCV\n",
    "lg = LogisticRegression( class_weight=\"balanced\", random_state=42, solver='liblinear', max_iter=10000, penalty = 'l2')\n",
    "print(lg)\n",
    "grid = {'solver':('liblinear', 'lbfgs', \"sag\", \"saga\"), 'C': [0.001, 0.01, 0.1, 1, 10]} # \n",
    "#grid = {'kernel':('liblinear', 'lbfgs', \"sag\", \"saga\"), \"C\" : np.arange(0.1,1,0.05)} # \n",
    "lg_cv = GridSearchCV(lg, grid, cv=5)\n",
    "lg_cv.fit(x_train, y_train)\n",
    "\n",
    "# 'C': [0.001, 0.01, 0.1, 1, 10]\n",
    "\n",
    "# Print hyperparameter\n",
    "print(\"Tuned hyperparameter parameters: {}\".format(lg_cv.best_params_)) \n",
    "print(\"Best cross-validation score: {}\".format(lg_cv.best_score_))\n",
    "print(\"Best estimator: \", .format(lg_cv.best_estimator_))"
   ]
  },
  {
   "cell_type": "code",
   "execution_count": null,
   "metadata": {},
   "outputs": [],
   "source": [
    "# Search for parameter\n",
    "from sklearn import svm\n",
    "from sklearn.model_selection import GridSearchCV\n",
    "from sklearn.svm import SVC\n",
    "parameters = {'kernel':('liblinear', 'lbfgs', \"sag\", \"saga\"), 'C':[1, 10]}\n",
    "svm = SVC()\n",
    "clf = GridSearchCV(svm, parameters)\n",
    "clf.fit(x_train,y_train)\n",
    "#GridSearchCV(estimator=SVC(),\n",
    "             param_grid={'C': [1, 10], 'kernel': ('linear', 'rbf')})\n",
    "sorted(clf.cv_results_.keys())"
   ]
  },
  {
   "cell_type": "code",
   "execution_count": null,
   "metadata": {},
   "outputs": [],
   "source": []
  },
  {
   "cell_type": "markdown",
   "metadata": {},
   "source": [
    "# Classification of NTU, NUS & SMU Tweets"
   ]
  },
  {
   "cell_type": "code",
   "execution_count": 25,
   "metadata": {},
   "outputs": [],
   "source": [
    "#Reading tweets from NTU, NUS & SMU\n",
    "import pandas as pd\n",
    "import re\n",
    "import pickle\n",
    "from tqdm import tqdm_notebook"
   ]
  },
  {
   "cell_type": "code",
   "execution_count": 26,
   "metadata": {},
   "outputs": [
    {
     "data": {
      "text/html": [
       "<div>\n",
       "<style scoped>\n",
       "    .dataframe tbody tr th:only-of-type {\n",
       "        vertical-align: middle;\n",
       "    }\n",
       "\n",
       "    .dataframe tbody tr th {\n",
       "        vertical-align: top;\n",
       "    }\n",
       "\n",
       "    .dataframe thead th {\n",
       "        text-align: right;\n",
       "    }\n",
       "</style>\n",
       "<table border=\"1\" class=\"dataframe\">\n",
       "  <thead>\n",
       "    <tr style=\"text-align: right;\">\n",
       "      <th></th>\n",
       "      <th>Unnamed: 0</th>\n",
       "      <th>tweet</th>\n",
       "      <th>date_tweet</th>\n",
       "    </tr>\n",
       "  </thead>\n",
       "  <tbody>\n",
       "    <tr>\n",
       "      <th>0</th>\n",
       "      <td>0</td>\n",
       "      <td>@IruraMwongera @Amen_Baba_ KOUMA (to be dry KM...</td>\n",
       "      <td>2020-02-09 07:36:08</td>\n",
       "    </tr>\n",
       "    <tr>\n",
       "      <th>1</th>\n",
       "      <td>1</td>\n",
       "      <td>You know how everyone’s introducing themselves...</td>\n",
       "      <td>2020-02-09 07:25:50</td>\n",
       "    </tr>\n",
       "    <tr>\n",
       "      <th>2</th>\n",
       "      <td>2</td>\n",
       "      <td>is ntu rly not gonna move big-group lectures o...</td>\n",
       "      <td>2020-02-09 07:07:53</td>\n",
       "    </tr>\n",
       "    <tr>\n",
       "      <th>3</th>\n",
       "      <td>3</td>\n",
       "      <td>But also, the Chinese speaking groups that ope...</td>\n",
       "      <td>2020-02-09 06:19:15</td>\n",
       "    </tr>\n",
       "    <tr>\n",
       "      <th>4</th>\n",
       "      <td>4</td>\n",
       "      <td>@MigunaMiguna @DrMumbiSeraki When your faced w...</td>\n",
       "      <td>2020-02-09 05:54:39</td>\n",
       "    </tr>\n",
       "  </tbody>\n",
       "</table>\n",
       "</div>"
      ],
      "text/plain": [
       "   Unnamed: 0                                              tweet  \\\n",
       "0           0  @IruraMwongera @Amen_Baba_ KOUMA (to be dry KM...   \n",
       "1           1  You know how everyone’s introducing themselves...   \n",
       "2           2  is ntu rly not gonna move big-group lectures o...   \n",
       "3           3  But also, the Chinese speaking groups that ope...   \n",
       "4           4  @MigunaMiguna @DrMumbiSeraki When your faced w...   \n",
       "\n",
       "            date_tweet  \n",
       "0  2020-02-09 07:36:08  \n",
       "1  2020-02-09 07:25:50  \n",
       "2  2020-02-09 07:07:53  \n",
       "3  2020-02-09 06:19:15  \n",
       "4  2020-02-09 05:54:39  "
      ]
     },
     "execution_count": 26,
     "metadata": {},
     "output_type": "execute_result"
    }
   ],
   "source": [
    "ntu = pd.read_csv(\"ntu.csv\")\n",
    "nus = pd.read_csv(\"nus.csv\")\n",
    "smu = pd.read_csv(\"smu.csv\")\n",
    "ntu = ntu.drop([\"tweet_id\", \"keyword\",\"user\"],axis=1)\n",
    "nus = nus.drop([\"tweet_id\",\"keyword\",\"user\"],axis=1)\n",
    "smu = smu.drop([\"tweet_id\",\"keyword\",\"user\"],axis=1)\n",
    "ntu.head()"
   ]
  },
  {
   "cell_type": "code",
   "execution_count": 35,
   "metadata": {},
   "outputs": [
    {
     "name": "stdout",
     "output_type": "stream",
     "text": [
      "Cleaning Tweets: \n"
     ]
    },
    {
     "name": "stderr",
     "output_type": "stream",
     "text": [
      "C:\\Users\\koh swee guan\\Anaconda3\\lib\\site-packages\\ipykernel_launcher.py:6: TqdmDeprecationWarning: This function will be removed in tqdm==5.0.0\n",
      "Please use `tqdm.notebook.tqdm` instead of `tqdm.tqdm_notebook`\n",
      "  \n"
     ]
    },
    {
     "data": {
      "application/vnd.jupyter.widget-view+json": {
       "model_id": "32122f49ddc84d40809ce0dfe8fab231",
       "version_major": 2,
       "version_minor": 0
      },
      "text/plain": [
       "HBox(children=(FloatProgress(value=0.0, max=1198.0), HTML(value='')))"
      ]
     },
     "metadata": {},
     "output_type": "display_data"
    },
    {
     "name": "stdout",
     "output_type": "stream",
     "text": [
      "\n"
     ]
    },
    {
     "name": "stderr",
     "output_type": "stream",
     "text": [
      "C:\\Users\\koh swee guan\\Anaconda3\\lib\\site-packages\\ipykernel_launcher.py:7: TqdmDeprecationWarning: This function will be removed in tqdm==5.0.0\n",
      "Please use `tqdm.notebook.tqdm` instead of `tqdm.tqdm_notebook`\n",
      "  import sys\n"
     ]
    },
    {
     "data": {
      "application/vnd.jupyter.widget-view+json": {
       "model_id": "c4a5d8c205b8430fa97e6c68e2823ae6",
       "version_major": 2,
       "version_minor": 0
      },
      "text/plain": [
       "HBox(children=(FloatProgress(value=0.0, max=1397.0), HTML(value='')))"
      ]
     },
     "metadata": {},
     "output_type": "display_data"
    },
    {
     "name": "stdout",
     "output_type": "stream",
     "text": [
      "\n"
     ]
    },
    {
     "name": "stderr",
     "output_type": "stream",
     "text": [
      "C:\\Users\\koh swee guan\\Anaconda3\\lib\\site-packages\\ipykernel_launcher.py:8: TqdmDeprecationWarning: This function will be removed in tqdm==5.0.0\n",
      "Please use `tqdm.notebook.tqdm` instead of `tqdm.tqdm_notebook`\n",
      "  \n"
     ]
    },
    {
     "data": {
      "application/vnd.jupyter.widget-view+json": {
       "model_id": "922918714c5146f2b1cc32a889071a6c",
       "version_major": 2,
       "version_minor": 0
      },
      "text/plain": [
       "HBox(children=(FloatProgress(value=0.0, max=1500.0), HTML(value='')))"
      ]
     },
     "metadata": {},
     "output_type": "display_data"
    },
    {
     "name": "stdout",
     "output_type": "stream",
     "text": [
      "\n"
     ]
    }
   ],
   "source": [
    "from tqdm import tqdm_notebook\n",
    "ntutweets = ntu.tweet\n",
    "nustweets = nus.tweet\n",
    "smutweets = smu.tweet\n",
    "print(\"Cleaning Tweets: \")\n",
    "ntutweets = [cleanText(t) for t in tqdm_notebook(ntutweets)]\n",
    "nustweets = [cleanText(t) for t in tqdm_notebook(nustweets)]\n",
    "smutweets = [cleanText(t) for t in tqdm_notebook(smutweets)]\n",
    "ntudate = ntu.date_tweet\n",
    "nusdate = nus.date_tweet\n",
    "smudate = smu.date_tweet"
   ]
  },
  {
   "cell_type": "markdown",
   "metadata": {},
   "source": [
    "### Save tweets for use later"
   ]
  },
  {
   "cell_type": "code",
   "execution_count": 39,
   "metadata": {},
   "outputs": [],
   "source": [
    "#Save the processed tweets for later use\n",
    "# save ntu tweets\n",
    "with open('ntutweets.pickle', 'wb') as f:\n",
    "    pickle.dump(ntutweets, f)\n",
    "with open('ntudate.pickle', 'wb') as f:\n",
    "    pickle.dump(ntudate, f)\n",
    "\n",
    "# save nus tweets\n",
    "with open('nustweets.pickle', 'wb') as f:\n",
    "    pickle.dump(nustweets, f)\n",
    "with open('nusdate.pickle', 'wb') as f:\n",
    "    pickle.dump(nusdate, f)  \n",
    "\n",
    "# save smu tweets\n",
    "with open('smutweets.pickle', 'wb') as f:\n",
    "    pickle.dump(smutweets, f)\n",
    "with open('smudate.pickle', 'wb') as f:\n",
    "    pickle.dump(smudate, f)    "
   ]
  },
  {
   "cell_type": "markdown",
   "metadata": {},
   "source": [
    "### Load tweets"
   ]
  },
  {
   "cell_type": "code",
   "execution_count": 42,
   "metadata": {},
   "outputs": [],
   "source": [
    "# Load ntu data\n",
    "with open('ntutweets.pickle', 'rb') as f:\n",
    "    ntutweets = pickle.load(f)\n",
    "with open('ntudate.pickle', 'rb') as f:\n",
    "    ntudate = pickle.load(f)\n",
    "    \n",
    "# Load nus data\n",
    "with open('nustweets.pickle', 'rb') as f:\n",
    "    nustweets = pickle.load(f)\n",
    "with open('nusdate.pickle', 'rb') as f:\n",
    "    nusdate = pickle.load(f)\n",
    "    \n",
    "# Load smu data\n",
    "with open('smutweets.pickle', 'rb') as f:\n",
    "    smutweets = pickle.load(f)\n",
    "with open('smudate.pickle', 'rb') as f:\n",
    "    smudate = pickle.load(f)"
   ]
  },
  {
   "cell_type": "code",
   "execution_count": null,
   "metadata": {},
   "outputs": [],
   "source": [
    "### Saving tweets as dataframe"
   ]
  },
  {
   "cell_type": "code",
   "execution_count": 44,
   "metadata": {},
   "outputs": [
    {
     "name": "stdout",
     "output_type": "stream",
     "text": [
      "\u001b[34mSaving data\u001b[0m\n"
     ]
    },
    {
     "data": {
      "text/html": [
       "<div>\n",
       "<style scoped>\n",
       "    .dataframe tbody tr th:only-of-type {\n",
       "        vertical-align: middle;\n",
       "    }\n",
       "\n",
       "    .dataframe tbody tr th {\n",
       "        vertical-align: top;\n",
       "    }\n",
       "\n",
       "    .dataframe thead th {\n",
       "        text-align: right;\n",
       "    }\n",
       "</style>\n",
       "<table border=\"1\" class=\"dataframe\">\n",
       "  <thead>\n",
       "    <tr style=\"text-align: right;\">\n",
       "      <th></th>\n",
       "      <th>Tweet</th>\n",
       "      <th>Date</th>\n",
       "    </tr>\n",
       "  </thead>\n",
       "  <tbody>\n",
       "    <tr>\n",
       "      <th>0</th>\n",
       "      <td>kouma dri KM kaa ukaa charcoal appear = black ...</td>\n",
       "      <td>2020-02-09 07:36:08</td>\n",
       "    </tr>\n",
       "    <tr>\n",
       "      <th>1</th>\n",
       "      <td>you know everyon introduc ntu student pursu ba...</td>\n",
       "      <td>2020-02-09 07:25:50</td>\n",
       "    </tr>\n",
       "    <tr>\n",
       "      <th>2</th>\n",
       "      <td>ntu rli not gon na move big-group lectur onlin</td>\n",
       "      <td>2020-02-09 07:07:53</td>\n",
       "    </tr>\n",
       "    <tr>\n",
       "      <th>3</th>\n",
       "      <td>but also chines speak group oper dialect would...</td>\n",
       "      <td>2020-02-09 06:19:15</td>\n",
       "    </tr>\n",
       "    <tr>\n",
       "      <th>4</th>\n",
       "      <td>when face forc mightier It advis humbl even ri...</td>\n",
       "      <td>2020-02-09 05:54:39</td>\n",
       "    </tr>\n",
       "  </tbody>\n",
       "</table>\n",
       "</div>"
      ],
      "text/plain": [
       "                                               Tweet                 Date\n",
       "0  kouma dri KM kaa ukaa charcoal appear = black ...  2020-02-09 07:36:08\n",
       "1  you know everyon introduc ntu student pursu ba...  2020-02-09 07:25:50\n",
       "2    ntu rli not gon na move big-group lectur onlin   2020-02-09 07:07:53\n",
       "3  but also chines speak group oper dialect would...  2020-02-09 06:19:15\n",
       "4  when face forc mightier It advis humbl even ri...  2020-02-09 05:54:39"
      ]
     },
     "execution_count": 44,
     "metadata": {},
     "output_type": "execute_result"
    }
   ],
   "source": [
    "# Save as dataframe\n",
    "ntu_data = pd.DataFrame({\n",
    "    'Tweet': ntutweets,\n",
    "    'Date': ntudate\n",
    "    })\n",
    "\n",
    "nus_data = pd.DataFrame({\n",
    "    'Tweet': nustweets,\n",
    "    'Date': nusdate\n",
    "    })\n",
    "\n",
    "smu_data = pd.DataFrame({\n",
    "    'Tweet': smutweets,\n",
    "    'Date': smudate\n",
    "    })\n",
    "\n",
    "# Save data\n",
    "print(colored(\"Saving data\", \"blue\"))\n",
    "ntu_data.to_csv('ntu_data.csv', index = False)\n",
    "nus_data.to_csv('nus_data.csv', index = False)\n",
    "smu_data.to_csv('smu_data.csv', index = False)\n",
    "ntu_data.head()"
   ]
  },
  {
   "cell_type": "code",
   "execution_count": 45,
   "metadata": {},
   "outputs": [
    {
     "name": "stdout",
     "output_type": "stream",
     "text": [
      "(1198, 2)\n",
      "(1397, 2)\n",
      "(1500, 2)\n"
     ]
    },
    {
     "data": {
      "text/html": [
       "<div>\n",
       "<style scoped>\n",
       "    .dataframe tbody tr th:only-of-type {\n",
       "        vertical-align: middle;\n",
       "    }\n",
       "\n",
       "    .dataframe tbody tr th {\n",
       "        vertical-align: top;\n",
       "    }\n",
       "\n",
       "    .dataframe thead th {\n",
       "        text-align: right;\n",
       "    }\n",
       "</style>\n",
       "<table border=\"1\" class=\"dataframe\">\n",
       "  <thead>\n",
       "    <tr style=\"text-align: right;\">\n",
       "      <th></th>\n",
       "      <th>Tweet</th>\n",
       "      <th>Date</th>\n",
       "    </tr>\n",
       "  </thead>\n",
       "  <tbody>\n",
       "    <tr>\n",
       "      <th>0</th>\n",
       "      <td>miss smu much</td>\n",
       "      <td>2020-02-14 07:52:14</td>\n",
       "    </tr>\n",
       "    <tr>\n",
       "      <th>1</th>\n",
       "      <td>happi valentin everyon special loml</td>\n",
       "      <td>2020-02-14 07:48:24</td>\n",
       "    </tr>\n",
       "    <tr>\n",
       "      <th>2</th>\n",
       "      <td>move friday # unt # uta # smu # utd # tcu</td>\n",
       "      <td>2020-02-14 07:30:03</td>\n",
       "    </tr>\n",
       "    <tr>\n",
       "      <th>3</th>\n",
       "      <td>now parad beauti smu # smucampusperson</td>\n",
       "      <td>2020-02-14 07:26:51</td>\n",
       "    </tr>\n",
       "    <tr>\n",
       "      <th>4</th>\n",
       "      <td>Go get r done sunday stud love watch smu</td>\n",
       "      <td>2020-02-14 07:15:30</td>\n",
       "    </tr>\n",
       "  </tbody>\n",
       "</table>\n",
       "</div>"
      ],
      "text/plain": [
       "                                        Tweet                 Date\n",
       "0                              miss smu much   2020-02-14 07:52:14\n",
       "1        happi valentin everyon special loml   2020-02-14 07:48:24\n",
       "2  move friday # unt # uta # smu # utd # tcu   2020-02-14 07:30:03\n",
       "3     now parad beauti smu # smucampusperson   2020-02-14 07:26:51\n",
       "4   Go get r done sunday stud love watch smu   2020-02-14 07:15:30"
      ]
     },
     "execution_count": 45,
     "metadata": {},
     "output_type": "execute_result"
    }
   ],
   "source": [
    "ntu_data = pd.read_csv(\"ntu_data.csv\")\n",
    "print (ntu_data.shape)\n",
    "ntu_data.head()\n",
    "\n",
    "nus_data = pd.read_csv(\"nus_data.csv\")\n",
    "print (nus_data.shape)\n",
    "nus_data.head()\n",
    "\n",
    "smu_data = pd.read_csv(\"smu_data.csv\")\n",
    "print (smu_data.shape)\n",
    "smu_data.head()"
   ]
  },
  {
   "cell_type": "code",
   "execution_count": 46,
   "metadata": {},
   "outputs": [
    {
     "name": "stdout",
     "output_type": "stream",
     "text": [
      "(1198, 2)\n",
      "There is 0 missing values in ntu data frame\n",
      "(1397, 2)\n",
      "There is 0 missing values in nus data frame\n",
      "(1500, 2)\n",
      "There is 0 missing values in smu data frame\n"
     ]
    }
   ],
   "source": [
    "# Remove null from ntu data\n",
    "ntu_data = ntu_data.dropna()\n",
    "#df = df.dropna(axis=0, subset=['Charge_Per_Line'])\n",
    "print (ntu_data.shape)\n",
    "print(\"There is {} missing values in ntu data frame\".format(ntu_data.isnull().sum().sum()))\n",
    "\n",
    "# Remove null from nus data\n",
    "nus_datadata = nus_data.dropna()\n",
    "#df = df.dropna(axis=0, subset=['Charge_Per_Line'])\n",
    "print (nus_data.shape)\n",
    "print(\"There is {} missing values in nus data frame\".format(nus_data.isnull().sum().sum()))\n",
    "\n",
    "# Remove null from smu data\n",
    "smu_data = smu_data.dropna()\n",
    "#df = df.dropna(axis=0, subset=['Charge_Per_Line'])\n",
    "print (smu_data.shape)\n",
    "print(\"There is {} missing values in smu data frame\".format(ntu_data.isnull().sum().sum()))"
   ]
  },
  {
   "cell_type": "code",
   "execution_count": 47,
   "metadata": {},
   "outputs": [],
   "source": [
    "train = pd.read_csv(\"train.csv\", encoding = \"ISO-8859-1\")\n",
    "test = pd.read_csv(\"test.csv\", encoding = \"ISO-8859-1\")\n",
    "train = train.dropna()\n",
    "test = test.dropna()\n",
    "x_train = train['Tweet']\n",
    "y_train = train['Sentiment']\n",
    "x_test = test[\"Tweet\"]\n",
    "y_test = test['Sentiment']"
   ]
  },
  {
   "cell_type": "code",
   "execution_count": 48,
   "metadata": {},
   "outputs": [],
   "source": [
    "from sklearn.feature_extraction.text import TfidfVectorizer\n",
    "# Create feature vectors\n",
    "#vectorizer = TfidfVectorizer(min_df = 5,\n",
    "#                             max_df = 0.8,\n",
    "#                             sublinear_tf = True,\n",
    "#                             use_idf = True)\n",
    "ngram = (1,2)\n",
    "vectorizer = TfidfVectorizer(ngram_range = ngram)\n",
    "train_vectors = vectorizer.fit_transform(x_train)\n",
    "test_vectors = vectorizer.transform(x_test)\n",
    "ntu_vectors = vectorizer.transform(ntu_data['Tweet'])\n",
    "nus_vectors = vectorizer.transform(nus_data['Tweet'])\n",
    "smu_vectors = vectorizer.transform(smu_data['Tweet'])"
   ]
  },
  {
   "cell_type": "code",
   "execution_count": 53,
   "metadata": {},
   "outputs": [
    {
     "name": "stdout",
     "output_type": "stream",
     "text": [
      "Classifying NTU Tweets\n",
      "Classifying NUS Tweets\n",
      "Classifying SMU Tweets\n"
     ]
    }
   ],
   "source": [
    "from sklearn.linear_model import LogisticRegression\n",
    "from sklearn.metrics import accuracy_score\n",
    "import pickle\n",
    "import time\n",
    "import csv\n",
    "\n",
    "# load the model from disk\n",
    "loaded_model = pickle.load(open('Logistic Regression_model.sav', 'rb'))\n",
    "#result = loaded_model.score(X_test, Y_test)\n",
    "#print(result)\n",
    "\n",
    "# Make classification on tweets data\n",
    "print ('Classifying NTU Tweets')\n",
    "ntu_y_test_predict = loaded_model.predict(ntu_vectors)\n",
    "\n",
    "print ('Classifying NUS Tweets')\n",
    "nus_y_test_predict = loaded_model.predict(nus_vectors)\n",
    "\n",
    "print ('Classifying SMU Tweets')\n",
    "smu_y_test_predict = loaded_model.predict(smu_vectors)\n",
    "    \n",
    "# Prepare analysis file\n",
    "# NTU\n",
    "ntu_data['Sentiment'] = ntu_y_test_predict\n",
    "ntu_submit = ntu_data[['Date', 'Sentiment']]\n",
    "ntu_submit.to_csv('ntu_sent.csv', index=False, header=True)\n",
    "\n",
    "# NUS\n",
    "nus_data['Sentiment'] = nus_y_test_predict\n",
    "nus_submit = nus_data[['Date', 'Sentiment']]\n",
    "nus_submit.to_csv('nus_sent.csv', index=False, header=True)\n",
    "\n",
    "# SMU\n",
    "smu_data['Sentiment'] = smu_y_test_predict\n",
    "smu_submit = smu_data[['Date', 'Sentiment']]\n",
    "smu_submit.to_csv('smu_sent.csv', index=False, header=True)\n"
   ]
  },
  {
   "cell_type": "markdown",
   "metadata": {},
   "source": [
    "### We can start understand the tweets from the classification"
   ]
  },
  {
   "cell_type": "code",
   "execution_count": 60,
   "metadata": {},
   "outputs": [
    {
     "data": {
      "text/html": [
       "<div>\n",
       "<style scoped>\n",
       "    .dataframe tbody tr th:only-of-type {\n",
       "        vertical-align: middle;\n",
       "    }\n",
       "\n",
       "    .dataframe tbody tr th {\n",
       "        vertical-align: top;\n",
       "    }\n",
       "\n",
       "    .dataframe thead th {\n",
       "        text-align: right;\n",
       "    }\n",
       "</style>\n",
       "<table border=\"1\" class=\"dataframe\">\n",
       "  <thead>\n",
       "    <tr style=\"text-align: right;\">\n",
       "      <th></th>\n",
       "      <th>Sentiment</th>\n",
       "    </tr>\n",
       "  </thead>\n",
       "  <tbody>\n",
       "    <tr>\n",
       "      <th>count</th>\n",
       "      <td>1198.000000</td>\n",
       "    </tr>\n",
       "    <tr>\n",
       "      <th>mean</th>\n",
       "      <td>2.964942</td>\n",
       "    </tr>\n",
       "    <tr>\n",
       "      <th>std</th>\n",
       "      <td>1.752556</td>\n",
       "    </tr>\n",
       "    <tr>\n",
       "      <th>min</th>\n",
       "      <td>0.000000</td>\n",
       "    </tr>\n",
       "    <tr>\n",
       "      <th>25%</th>\n",
       "      <td>0.000000</td>\n",
       "    </tr>\n",
       "    <tr>\n",
       "      <th>50%</th>\n",
       "      <td>4.000000</td>\n",
       "    </tr>\n",
       "    <tr>\n",
       "      <th>75%</th>\n",
       "      <td>4.000000</td>\n",
       "    </tr>\n",
       "    <tr>\n",
       "      <th>max</th>\n",
       "      <td>4.000000</td>\n",
       "    </tr>\n",
       "  </tbody>\n",
       "</table>\n",
       "</div>"
      ],
      "text/plain": [
       "         Sentiment\n",
       "count  1198.000000\n",
       "mean      2.964942\n",
       "std       1.752556\n",
       "min       0.000000\n",
       "25%       0.000000\n",
       "50%       4.000000\n",
       "75%       4.000000\n",
       "max       4.000000"
      ]
     },
     "execution_count": 60,
     "metadata": {},
     "output_type": "execute_result"
    }
   ],
   "source": [
    "ntu_sent = pd.read_csv(\"ntu_sent.csv\")\n",
    "nus_sent = pd.read_csv(\"nus_sent.csv\")\n",
    "smu_sent = pd.read_csv(\"smu_sent.csv\")\n",
    "ntu_sent.head()\n",
    "ntu_sent.describe()"
   ]
  },
  {
   "cell_type": "code",
   "execution_count": 78,
   "metadata": {},
   "outputs": [
    {
     "name": "stdout",
     "output_type": "stream",
     "text": [
      "NTU Tweets Sentiment\n",
      "\u001b[31mNTU Sentiment distribution:\u001b[0m\n",
      "4    888\n",
      "0    310\n",
      "Name: Sentiment, dtype: int64\n"
     ]
    },
    {
     "data": {
      "image/png": "[encoded data removed]",
      "text/plain": [
       "<Figure size 792x576 with 1 Axes>"
      ]
     },
     "metadata": {
      "needs_background": "light"
     },
     "output_type": "display_data"
    }
   ],
   "source": [
    "# checking dataset of NTU\n",
    "import seaborn as sns\n",
    "ntu_sent.groupby(\"Sentiment\").count()\n",
    "#traindata[[\"cardio\",\"height\"]].groupby(\"Outcome\").count()\n",
    "sns.countplot(x=\"Sentiment\", data=ntu_sent, palette=\"Set1\")\n",
    "print ('NTU Tweets Sentiment')\n",
    "\n",
    "print(colored(\"NTU Sentiment distribution:\", \"red\"))\n",
    "print(ntu_sent['Sentiment'].value_counts())\n"
   ]
  },
  {
   "cell_type": "code",
   "execution_count": 79,
   "metadata": {},
   "outputs": [
    {
     "name": "stdout",
     "output_type": "stream",
     "text": [
      "NUS Tweets Sentiment\n",
      "\u001b[34mNUS Sentiment distribution:\u001b[0m\n",
      "4    961\n",
      "0    436\n",
      "Name: Sentiment, dtype: int64\n"
     ]
    },
    {
     "data": {
      "image/png": "[encoded data removed]",
      "text/plain": [
       "<Figure size 792x576 with 1 Axes>"
      ]
     },
     "metadata": {
      "needs_background": "light"
     },
     "output_type": "display_data"
    }
   ],
   "source": [
    "# checking dataset of NUS\n",
    "import seaborn as sns\n",
    "nus_sent.groupby(\"Sentiment\").count()\n",
    "#traindata[[\"cardio\",\"height\"]].groupby(\"Outcome\").count()\n",
    "sns.countplot(x=\"Sentiment\", data=nus_sent, palette=\"Set1\")\n",
    "print ('NUS Tweets Sentiment')\n",
    "\n",
    "print(colored(\"NUS Sentiment distribution:\", \"blue\"))\n",
    "print(nus_sent['Sentiment'].value_counts())"
   ]
  },
  {
   "cell_type": "code",
   "execution_count": 80,
   "metadata": {},
   "outputs": [
    {
     "name": "stdout",
     "output_type": "stream",
     "text": [
      "SMU Tweets Sentiment\n",
      "\u001b[30mSMU Sentiment distribution:\u001b[0m\n",
      "4    940\n",
      "0    560\n",
      "Name: Sentiment, dtype: int64\n"
     ]
    },
    {
     "data": {
      "image/png": "[encoded data removed]",
      "text/plain": [
       "<Figure size 792x576 with 1 Axes>"
      ]
     },
     "metadata": {
      "needs_background": "light"
     },
     "output_type": "display_data"
    }
   ],
   "source": [
    "# checking dataset of SMU\n",
    "import seaborn as sns\n",
    "smu_sent.groupby(\"Sentiment\").count()\n",
    "sns.countplot(x=\"Sentiment\", data=smu_sent, palette=\"Set1\")\n",
    "print ('SMU Tweets Sentiment')\n",
    "\n",
    "print(colored(\"SMU Sentiment distribution:\", \"grey\"))\n",
    "print(smu_sent['Sentiment'].value_counts())"
   ]
  },
  {
   "cell_type": "code",
   "execution_count": null,
   "metadata": {},
   "outputs": [],
   "source": [
    "#dftest.date = pd.to_datetime(dftest.date).dt.to_period('y')\n",
    "#dftest.head(2)\n",
    "ntu_sent.Date = pd.to_datetime(ntu_sent.Date).dt.to_period('m')\n",
    "ntu_sent.Date.head(10)"
   ]
  },
  {
   "cell_type": "code",
   "execution_count": 75,
   "metadata": {},
   "outputs": [
    {
     "data": {
      "text/plain": [
       "1188    2020-02\n",
       "1189    2020-02\n",
       "1190    2020-02\n",
       "1191    2020-02\n",
       "1192    2020-02\n",
       "1193    2020-02\n",
       "1194    2020-02\n",
       "1195    2020-02\n",
       "1196    2020-02\n",
       "1197    2020-02\n",
       "Name: Date, dtype: period[M]"
      ]
     },
     "execution_count": 75,
     "metadata": {},
     "output_type": "execute_result"
    }
   ],
   "source": [
    "ntu_sent.Date.tail(10)"
   ]
  },
  {
   "cell_type": "code",
   "execution_count": 72,
   "metadata": {},
   "outputs": [
    {
     "data": {
      "image/png": "[encoded data removed]",
      "text/plain": [
       "<Figure size 792x576 with 1 Axes>"
      ]
     },
     "metadata": {
      "needs_background": "light"
     },
     "output_type": "display_data"
    }
   ],
   "source": [
    "# Explore at what sentiment by date\n",
    "from matplotlib import rcParams\n",
    "rcParams['figure.figsize'] = 11, 8\n",
    "sns.countplot(x='Date', hue='Sentiment', data = ntu_sent, palette=\"Set1\");"
   ]
  },
  {
   "cell_type": "code",
   "execution_count": 55,
   "metadata": {},
   "outputs": [
    {
     "name": "stdout",
     "output_type": "stream",
     "text": [
      "Visualize NTU sentiment with date\n"
     ]
    },
    {
     "data": {
      "image/png": "[encoded data removed]",
      "text/plain": [
       "<Figure size 432x288 with 1 Axes>"
      ]
     },
     "metadata": {
      "needs_background": "light"
     },
     "output_type": "display_data"
    }
   ],
   "source": [
    "# visualize cardio with gender\n",
    "sns.countplot(x='Date',data=ntu_sent,hue='Sentiment',palette='rainbow')\n",
    "print ('Visualize NTU sentiment with date')"
   ]
  },
  {
   "cell_type": "code",
   "execution_count": null,
   "metadata": {},
   "outputs": [],
   "source": []
  },
  {
   "cell_type": "code",
   "execution_count": null,
   "metadata": {},
   "outputs": [],
   "source": []
  },
  {
   "cell_type": "code",
   "execution_count": null,
   "metadata": {},
   "outputs": [],
   "source": []
  },
  {
   "cell_type": "code",
   "execution_count": null,
   "metadata": {},
   "outputs": [],
   "source": []
  },
  {
   "cell_type": "code",
   "execution_count": null,
   "metadata": {},
   "outputs": [],
   "source": []
  },
  {
   "cell_type": "markdown",
   "metadata": {},
   "source": [
    "# LSTM"
   ]
  },
  {
   "cell_type": "code",
   "execution_count": null,
   "metadata": {},
   "outputs": [],
   "source": [
    "# Load data\n",
    "print(colored(\"Loading train and test data\", \"yellow\"))\n",
    "train_data = pd.read_csv('C:/Users/Phu Wai Paing/Desktop/Course Books/Text and Web Mining/TrainTestSplitCSV/train.csv')\n",
    "test_data = pd.read_csv('C:/Users/Phu Wai Paing/Desktop/Course Books/Text and Web Mining/TrainTestSplitCSV/test.csv')\n",
    "print(colored(\"Data loaded\", \"yellow\"))\n",
    "\n",
    "# Tokenization\n",
    "print(colored(\"Tokenizing and padding data\", \"yellow\"))\n",
    "tokenizer = Tokenizer(num_words = 2000, split = ' ')\n",
    "tokenizer.fit_on_texts(train_data['Tweet'].astype(str).values)\n",
    "train_tweets = tokenizer.texts_to_sequences(train_data['Tweet'].astype(str).values)\n",
    "max_len = max([len(i) for i in train_tweets])\n",
    "train_tweets = pad_sequences(train_tweets, maxlen = max_len)\n",
    "test_tweets = tokenizer.texts_to_sequences(test_data['Tweet'].astype(str).values)\n",
    "test_tweets = pad_sequences(test_tweets, maxlen = max_len)\n",
    "print(colored(\"Tokenizing and padding complete\", \"yellow\"))\n",
    "\n",
    "# Building the model\n",
    "print(colored(\"Creating the LSTM model\", \"yellow\"))\n",
    "model = Sequential()\n",
    "model.add(Embedding(2000, 128, input_length = train_tweets.shape[1]))\n",
    "model.add(SpatialDropout1D(0.4))\n",
    "model.add(LSTM(256, dropout = 0.2))\n",
    "model.add(Dense(2, activation = 'softmax'))\n",
    "model.compile(loss = 'categorical_crossentropy', optimizer = 'adam', metrics = ['accuracy'])\n",
    "model.summary()\n",
    "\n",
    "# Training the model\n",
    "print(colored(\"Training the LSTM model\", \"green\"))\n",
    "history = model.fit(train_tweets, pd.get_dummies(train_data['Sentiment']).values, epochs = 1, batch_size = 128, validation_split = 0.2)\n",
    "print(colored(history, \"green\"))\n",
    "\n",
    "# Testing the model\n",
    "print(colored(\"Testing the LSTM model\", \"green\"))\n",
    "score, accuracy = model.evaluate(test_tweets, pd.get_dummies(test_data['Sentiment']).values, batch_size = 128)\n",
    "print(\"Test accuracy: {}\".format(accuracy))"
   ]
  },
  {
   "cell_type": "code",
   "execution_count": null,
   "metadata": {},
   "outputs": [],
   "source": []
  },
  {
   "cell_type": "code",
   "execution_count": null,
   "metadata": {},
   "outputs": [],
   "source": []
  }
 ],
 "metadata": {
  "kernelspec": {
   "display_name": "Python 3",
   "language": "python",
   "name": "python3"
  },
  "language_info": {
   "codemirror_mode": {
    "name": "ipython",
    "version": 3
   },
   "file_extension": ".py",
   "mimetype": "text/x-python",
   "name": "python",
   "nbconvert_exporter": "python",
   "pygments_lexer": "ipython3",
   "version": "3.7.1"
  }
 },
 "nbformat": 4,
 "nbformat_minor": 2
}
