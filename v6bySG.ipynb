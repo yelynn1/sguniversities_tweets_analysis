{
 "cells": [
  {
   "cell_type": "code",
   "execution_count": null,
   "metadata": {
    "scrolled": true
   },
   "outputs": [],
   "source": [
    "#!pip install keras"
   ]
  },
  {
   "cell_type": "code",
   "execution_count": null,
   "metadata": {},
   "outputs": [],
   "source": [
    "#!pip install tensorflow"
   ]
  },
  {
   "cell_type": "code",
   "execution_count": null,
   "metadata": {},
   "outputs": [],
   "source": [
    "import pandas as pd\n",
    "import re\n",
    "import pickle\n",
    "from tqdm import tqdm_notebook\n",
    "from bs4 import BeautifulSoup\n",
    "import matplotlib.pyplot as plt\n",
    "from sklearn.feature_extraction.text import CountVectorizer,TfidfTransformer\n",
    "from sklearn.feature_extraction.text import TfidfVectorizer\n",
    "from sklearn.naive_bayes import MultinomialNB\n",
    "from sklearn.linear_model import SGDClassifier\n",
    "from sklearn import svm\n",
    "from nltk.stem.porter import PorterStemmer\n",
    "from nltk.corpus import stopwords\n",
    "from nltk.tokenize import word_tokenize\n",
    "from sklearn.model_selection import train_test_split\n",
    "from sklearn.metrics import accuracy_score\n",
    "from sklearn.metrics import precision_score\n",
    "from sklearn.metrics import recall_score\n",
    "from termcolor import colored\n",
    "\n",
    "#import os\n",
    "#import tensorflow\n",
    "#os.environ['KERAS_BACKEND'] = 'tensorflow'\n",
    "\n",
    "#import keras\n",
    "#from keras.models import Sequential\n",
    "#from keras.layers import Dense, Embedding, LSTM, SpatialDropout1D\n",
    "#from keras.preprocessing.text import Tokenizer\n",
    "#from keras.preprocessing.sequence import pad_sequences\n",
    "\n",
    "\n"
   ]
  },
  {
   "cell_type": "markdown",
   "metadata": {},
   "source": [
    "## Read data from sentiment 140"
   ]
  },
  {
   "cell_type": "code",
   "execution_count": null,
   "metadata": {},
   "outputs": [],
   "source": [
    "sentiment = pd.read_csv(\"sentiment140.csv\", encoding = \"ISO-8859-1\")\n",
    "sentiment.columns=['polarity','tweetid','date','nq','author','tweet']\n",
    "sentiment = sentiment.drop([\"tweetid\",\"date\",\"nq\",\"author\"],axis=1)"
   ]
  },
  {
   "cell_type": "markdown",
   "metadata": {},
   "source": [
    "### Understanding and Checking the dataset"
   ]
  },
  {
   "cell_type": "code",
   "execution_count": null,
   "metadata": {},
   "outputs": [],
   "source": [
    "sentiment.head(2)"
   ]
  },
  {
   "cell_type": "code",
   "execution_count": null,
   "metadata": {},
   "outputs": [],
   "source": [
    "sentiment.shape"
   ]
  },
  {
   "cell_type": "code",
   "execution_count": null,
   "metadata": {},
   "outputs": [],
   "source": [
    "# Check for missing data\n",
    "#traindata.isnull().values.any()\n",
    "#print(\"There is {} missing values in train data frame\".format(sentiment.isnull().sum().sum()))"
   ]
  },
  {
   "cell_type": "code",
   "execution_count": null,
   "metadata": {},
   "outputs": [],
   "source": [
    "# Check for duplicate test data\n",
    "#print(\"There is {} duplicated values in test data frame\".format(sentiment.duplicated().sum()))"
   ]
  },
  {
   "cell_type": "code",
   "execution_count": null,
   "metadata": {},
   "outputs": [],
   "source": [
    "#duplicated = sentiment[sentiment.duplicated(keep=False)]\n",
    "#duplicated.head(10) # Show us just 2 duplications"
   ]
  },
  {
   "cell_type": "code",
   "execution_count": null,
   "metadata": {},
   "outputs": [],
   "source": [
    "# Remove duplicates\n",
    "#sentiment.drop_duplicates(inplace=True)\n",
    "\n",
    "# Confirm the removal\n",
    "#print(\"There is {} duplicated values in data frame\".format(sentiment.duplicated().sum()))\n",
    "#sentiment.shape"
   ]
  },
  {
   "cell_type": "code",
   "execution_count": null,
   "metadata": {},
   "outputs": [],
   "source": [
    "sentiment.polarity.value_counts().plot(kind=\"bar\",subplots=\"True\")\n",
    "plt.show()"
   ]
  },
  {
   "cell_type": "markdown",
   "metadata": {},
   "source": [
    "## Functions for cleaning the tweets"
   ]
  },
  {
   "cell_type": "code",
   "execution_count": 29,
   "metadata": {},
   "outputs": [],
   "source": [
    "from nltk.stem.porter import PorterStemmer\n",
    "from nltk.corpus import stopwords\n",
    "from nltk.tokenize import word_tokenize\n",
    "from bs4 import BeautifulSoup\n",
    "stop_words = set(stopwords.words('english'))\n",
    "stop_words.remove(\"not\")\n",
    "\n",
    "\n",
    "def cleanText(s):\n",
    "    bad_chars = [';', ':', '!', '*', '(' , ')', '&','[',']','.','?','{','}',',']\n",
    "    non_ascii = \"\".join(i for i in s if ord(i)< 128)\n",
    "    \n",
    "    html_decoded_string = BeautifulSoup(non_ascii, \"lxml\")\n",
    "    string = html_decoded_string.string\n",
    "    \n",
    "    non_name = \" \".join((filter(lambda x:x[0]!='@', string.split())))\n",
    "    non_badchars = ''.join(filter(lambda i: i not in bad_chars, non_name))\n",
    "    non_links = re.sub(r\"http\\S+\", \"\", non_badchars)\n",
    "    non_websites = re.sub(r\"www.[^ ]+\",\"\",non_links)\n",
    "    non_numbers = re.sub(r\"[0-9]+\",\"\",non_websites)\n",
    "    \n",
    "    clean = stopwords_stem(non_numbers)\n",
    "    clean = decontracted(clean)\n",
    "    \n",
    "    return clean\n",
    "\n",
    "def decontracted(phrase):\n",
    "    # specific\n",
    "    phrase = re.sub(r\"won\\'t\", \"will not\", phrase)\n",
    "    phrase = re.sub(r\"can\\'t\", \"can not\", phrase)\n",
    "\n",
    "    # general\n",
    "    phrase = re.sub(r\"n\\'t\", \" not\", phrase)\n",
    "    phrase = re.sub(r\"\\'re\", \" are\", phrase)\n",
    "    phrase = re.sub(r\"\\'s\", \" is\", phrase)\n",
    "    phrase = re.sub(r\"\\'d\", \" would\", phrase)\n",
    "    phrase = re.sub(r\"\\'ll\", \" will\", phrase)\n",
    "    phrase = re.sub(r\"\\'t\", \" not\", phrase)\n",
    "    phrase = re.sub(r\"\\'ve\", \" have\", phrase)\n",
    "    phrase = re.sub(r\"\\'m\", \" am\", phrase)\n",
    "    return phrase\n",
    "\n",
    "def stopwords_stem(document): \n",
    "    words = word_tokenize(document)\n",
    "    words = removeStopwords(words)\n",
    "    words = stemWords(words)\n",
    "    result = \"\"\n",
    "    for word in words:\n",
    "        result += word + \" \"\n",
    "    return result\n",
    "\n",
    "def removeStopwords(document):\n",
    "    result = []\n",
    "    for word in document:\n",
    "        if word not in stop_words:\n",
    "            result.append(word)\n",
    "    return result\n",
    "\n",
    "def stemWords(document):\n",
    "    \"\"\"Stem words in list of tokenized words\"\"\"\n",
    "    stemmer = PorterStemmer()\n",
    "    result = []\n",
    "    for word in document:\n",
    "        stem = stemmer.stem(word)\n",
    "        result.append(stem)\n",
    "    return result\n",
    "\n"
   ]
  },
  {
   "cell_type": "markdown",
   "metadata": {},
   "source": [
    "## Cleaning tweets from dataframe and transform to list\n",
    "#### Can skip if load from disk (below)"
   ]
  },
  {
   "cell_type": "code",
   "execution_count": null,
   "metadata": {
    "scrolled": true
   },
   "outputs": [],
   "source": [
    "tweets = sentiment.tweet\n",
    "print(\"Cleaning Tweets: \")\n",
    "tweets = [cleanText(t) for t in tqdm_notebook(tweets)]\n",
    "polarity = sentiment.polarity"
   ]
  },
  {
   "cell_type": "markdown",
   "metadata": {},
   "source": [
    "### Save the processed tweets for later use"
   ]
  },
  {
   "cell_type": "code",
   "execution_count": null,
   "metadata": {},
   "outputs": [],
   "source": [
    "with open('tweets.pickle', 'wb') as f:\n",
    "    pickle.dump(tweets, f)\n",
    "with open('polarity.pickle', 'wb') as f:\n",
    "    pickle.dump(polarity, f)"
   ]
  },
  {
   "cell_type": "markdown",
   "metadata": {},
   "source": [
    "### Load from saved files"
   ]
  },
  {
   "cell_type": "code",
   "execution_count": null,
   "metadata": {},
   "outputs": [],
   "source": [
    "with open('tweets.pickle', 'rb') as f:\n",
    "    tweets = pickle.load(f)\n",
    "with open('polarity.pickle', 'rb') as f:\n",
    "    polarity = pickle.load(f)"
   ]
  },
  {
   "cell_type": "code",
   "execution_count": null,
   "metadata": {},
   "outputs": [],
   "source": [
    "for i in range(5):\n",
    "    print(sentiment.tweet[i])\n",
    "    print(tweets[i]+\"\\n\")"
   ]
  },
  {
   "cell_type": "markdown",
   "metadata": {},
   "source": [
    "# TrainTestSplitToCSV"
   ]
  },
  {
   "cell_type": "code",
   "execution_count": null,
   "metadata": {},
   "outputs": [],
   "source": [
    "# Train test split\n",
    "print(colored(\"Splitting train and test dataset into 80:20\", \"yellow\"))\n",
    "X_train, X_test, y_train, y_test = train_test_split(tweets, polarity, test_size = 0.2, random_state = 123)\n",
    "train_dataset = pd.DataFrame({\n",
    "    'Tweet': X_train,\n",
    "    'Sentiment': y_train\n",
    "    })\n",
    "print(colored(\"Train data distribution:\", \"yellow\"))\n",
    "print(train_dataset['Sentiment'].value_counts())\n",
    "test_dataset = pd.DataFrame({\n",
    "    'Tweet': X_test,\n",
    "    'Sentiment': y_test\n",
    "    })\n",
    "print(colored(\"Test data distribution:\", \"yellow\"))\n",
    "print(test_dataset['Sentiment'].value_counts())\n",
    "print(colored(\"Split complete\", \"yellow\"))\n",
    "\n",
    "# Save train data\n",
    "print(colored(\"Saving train data\", \"yellow\"))\n",
    "\n",
    "train_dataset.to_csv('train.csv', index = False)\n",
    "print(colored(\"Train data saved to TrainTestSplitCSV/train.csv\", \"green\"))\n",
    "\n",
    "# Save test data\n",
    "print(colored(\"Saving test data\", \"yellow\"))\n",
    "test_dataset.to_csv('test.csv', index = False)\n",
    "print(colored(\"Test data saved to TrainTestSplitCSV/test.csv\", \"green\"))"
   ]
  },
  {
   "cell_type": "markdown",
   "metadata": {},
   "source": [
    "### TF-IDF Vectorizer (SG) - can start from here after generating the data"
   ]
  },
  {
   "cell_type": "code",
   "execution_count": 1,
   "metadata": {},
   "outputs": [
    {
     "name": "stdout",
     "output_type": "stream",
     "text": [
      "(1279999, 2)\n"
     ]
    },
    {
     "data": {
      "text/html": [
       "<div>\n",
       "<style scoped>\n",
       "    .dataframe tbody tr th:only-of-type {\n",
       "        vertical-align: middle;\n",
       "    }\n",
       "\n",
       "    .dataframe tbody tr th {\n",
       "        vertical-align: top;\n",
       "    }\n",
       "\n",
       "    .dataframe thead th {\n",
       "        text-align: right;\n",
       "    }\n",
       "</style>\n",
       "<table border=\"1\" class=\"dataframe\">\n",
       "  <thead>\n",
       "    <tr style=\"text-align: right;\">\n",
       "      <th></th>\n",
       "      <th>Tweet</th>\n",
       "      <th>Sentiment</th>\n",
       "    </tr>\n",
       "  </thead>\n",
       "  <tbody>\n",
       "    <tr>\n",
       "      <th>0</th>\n",
       "      <td>u guy tour right soon</td>\n",
       "      <td>4</td>\n",
       "    </tr>\n",
       "    <tr>\n",
       "      <th>1</th>\n",
       "      <td>good blog post recent twitter dri grimeforum f...</td>\n",
       "      <td>0</td>\n",
       "    </tr>\n",
       "    <tr>\n",
       "      <th>2</th>\n",
       "      <td>brendo noooooooooooooooooooo ho earth could no...</td>\n",
       "      <td>0</td>\n",
       "    </tr>\n",
       "    <tr>\n",
       "      <th>3</th>\n",
       "      <td>am sorri u ' r not well sore underarm gland  ...</td>\n",
       "      <td>0</td>\n",
       "    </tr>\n",
       "    <tr>\n",
       "      <th>4</th>\n",
       "      <td>girl burn kitten aliv In oven As `` practic jo...</td>\n",
       "      <td>0</td>\n",
       "    </tr>\n",
       "  </tbody>\n",
       "</table>\n",
       "</div>"
      ],
      "text/plain": [
       "                                               Tweet  Sentiment\n",
       "0                             u guy tour right soon           4\n",
       "1  good blog post recent twitter dri grimeforum f...          0\n",
       "2  brendo noooooooooooooooooooo ho earth could no...          0\n",
       "3   am sorri u ' r not well sore underarm gland  ...          0\n",
       "4  girl burn kitten aliv In oven As `` practic jo...          0"
      ]
     },
     "execution_count": 1,
     "metadata": {},
     "output_type": "execute_result"
    }
   ],
   "source": [
    "import pandas as pd\n",
    "import re\n",
    "import pickle\n",
    "from tqdm import tqdm_notebook\n",
    "train = pd.read_csv(\"train.csv\", encoding = \"ISO-8859-1\")\n",
    "print (train.shape)\n",
    "train.head()"
   ]
  },
  {
   "cell_type": "code",
   "execution_count": 2,
   "metadata": {},
   "outputs": [
    {
     "name": "stdout",
     "output_type": "stream",
     "text": [
      "(320000, 2)\n"
     ]
    },
    {
     "data": {
      "text/html": [
       "<div>\n",
       "<style scoped>\n",
       "    .dataframe tbody tr th:only-of-type {\n",
       "        vertical-align: middle;\n",
       "    }\n",
       "\n",
       "    .dataframe tbody tr th {\n",
       "        vertical-align: top;\n",
       "    }\n",
       "\n",
       "    .dataframe thead th {\n",
       "        text-align: right;\n",
       "    }\n",
       "</style>\n",
       "<table border=\"1\" class=\"dataframe\">\n",
       "  <thead>\n",
       "    <tr style=\"text-align: right;\">\n",
       "      <th></th>\n",
       "      <th>Tweet</th>\n",
       "      <th>Sentiment</th>\n",
       "    </tr>\n",
       "  </thead>\n",
       "  <tbody>\n",
       "    <tr>\n",
       "      <th>0</th>\n",
       "      <td>tire ive like hr sleep past nightsnot goooood ...</td>\n",
       "      <td>0</td>\n",
       "    </tr>\n",
       "    <tr>\n",
       "      <th>1</th>\n",
       "      <td>shuck miss key event week &gt; &gt; moan &lt; &lt;</td>\n",
       "      <td>0</td>\n",
       "    </tr>\n",
       "    <tr>\n",
       "      <th>2</th>\n",
       "      <td>Me where nice degre day I could use week themg...</td>\n",
       "      <td>0</td>\n",
       "    </tr>\n",
       "    <tr>\n",
       "      <th>3</th>\n",
       "      <td>it spikey dikey  is last friday night the burg...</td>\n",
       "      <td>0</td>\n",
       "    </tr>\n",
       "    <tr>\n",
       "      <th>4</th>\n",
       "      <td>good mornin</td>\n",
       "      <td>4</td>\n",
       "    </tr>\n",
       "  </tbody>\n",
       "</table>\n",
       "</div>"
      ],
      "text/plain": [
       "                                               Tweet  Sentiment\n",
       "0  tire ive like hr sleep past nightsnot goooood ...          0\n",
       "1            shuck miss key event week > > moan < <           0\n",
       "2  Me where nice degre day I could use week themg...          0\n",
       "3  it spikey dikey  is last friday night the burg...          0\n",
       "4                                       good mornin           4"
      ]
     },
     "execution_count": 2,
     "metadata": {},
     "output_type": "execute_result"
    }
   ],
   "source": [
    "test = pd.read_csv(\"test.csv\")\n",
    "print (test.shape)\n",
    "test.head()"
   ]
  },
  {
   "cell_type": "code",
   "execution_count": 3,
   "metadata": {},
   "outputs": [],
   "source": [
    "#train.dtypes"
   ]
  },
  {
   "cell_type": "code",
   "execution_count": 4,
   "metadata": {},
   "outputs": [],
   "source": [
    "# Check for duplicate train data\n",
    "#print(\"There is {} duplicated values in train data frame\".format(train.duplicated().sum()))"
   ]
  },
  {
   "cell_type": "code",
   "execution_count": 5,
   "metadata": {},
   "outputs": [],
   "source": [
    "# Check for duplicate test data\n",
    "#print(\"There is {} duplicated values in test data frame\".format(test.duplicated().sum()))"
   ]
  },
  {
   "cell_type": "code",
   "execution_count": 6,
   "metadata": {},
   "outputs": [],
   "source": [
    "#duplicated = train[train.duplicated(keep=False)]\n",
    "#duplicated.head(10) # Show us just 2 duplications"
   ]
  },
  {
   "cell_type": "code",
   "execution_count": 7,
   "metadata": {},
   "outputs": [
    {
     "name": "stdout",
     "output_type": "stream",
     "text": [
      "There is 4494 missing values in train data frame\n",
      "There is 1186 missing values in test data frame\n"
     ]
    }
   ],
   "source": [
    "# Check for missing data\n",
    "#traindata.isnull().values.any()\n",
    "print(\"There is {} missing values in train data frame\".format(train.isnull().sum().sum()))\n",
    "print(\"There is {} missing values in test data frame\".format(test.isnull().sum().sum()))"
   ]
  },
  {
   "cell_type": "code",
   "execution_count": 8,
   "metadata": {},
   "outputs": [
    {
     "name": "stdout",
     "output_type": "stream",
     "text": [
      "(1279999, 2)\n",
      "(1275505, 2)\n",
      "There is 0 missing values in train data frame\n"
     ]
    }
   ],
   "source": [
    "# Remove null from train data\n",
    "print (train.shape)\n",
    "train = train.dropna()\n",
    "#df = df.dropna(axis=0, subset=['Charge_Per_Line'])\n",
    "print (train.shape)\n",
    "print(\"There is {} missing values in train data frame\".format(train.isnull().sum().sum()))"
   ]
  },
  {
   "cell_type": "code",
   "execution_count": 9,
   "metadata": {},
   "outputs": [
    {
     "name": "stdout",
     "output_type": "stream",
     "text": [
      "(320000, 2)\n",
      "(318814, 2)\n",
      "There is 0 missing values in train data frame\n"
     ]
    }
   ],
   "source": [
    "# Remove null from test data\n",
    "print (test.shape)\n",
    "test = test.dropna()\n",
    "print (test.shape)\n",
    "print(\"There is {} missing values in train data frame\".format(test.isnull().sum().sum()))"
   ]
  },
  {
   "cell_type": "code",
   "execution_count": 10,
   "metadata": {},
   "outputs": [],
   "source": [
    "x_train = train['Tweet']\n",
    "y_train = train['Sentiment']\n",
    "x_test = test[\"Tweet\"]\n",
    "y_test = test['Sentiment']"
   ]
  },
  {
   "cell_type": "code",
   "execution_count": 11,
   "metadata": {},
   "outputs": [
    {
     "name": "stdout",
     "output_type": "stream",
     "text": [
      "(1275505,) (318814,)\n",
      "(1275505,) (318814,)\n"
     ]
    }
   ],
   "source": [
    "print (x_train.shape, x_test.shape)\n",
    "print (y_train.shape, y_test.shape)"
   ]
  },
  {
   "cell_type": "code",
   "execution_count": 12,
   "metadata": {},
   "outputs": [],
   "source": [
    "from sklearn.feature_extraction.text import TfidfVectorizer\n",
    "# Create feature vectors\n",
    "#vectorizer = TfidfVectorizer(min_df = 5, max_df = 0.8, sublinear_tf = True, use_idf = True)\n",
    "ngram = (1,2)\n",
    "vectorizer = TfidfVectorizer(ngram_range = ngram)\n",
    "train_vectors = vectorizer.fit_transform(x_train)\n",
    "test_vectors = vectorizer.transform(x_test)\n",
    "#kagtest_vectors = vectorizer.transform(testdata['Comment'])"
   ]
  },
  {
   "cell_type": "code",
   "execution_count": 13,
   "metadata": {},
   "outputs": [
    {
     "name": "stdout",
     "output_type": "stream",
     "text": [
      "(1275505, 3329685)\n"
     ]
    }
   ],
   "source": [
    "print (train_vectors.shape)"
   ]
  },
  {
   "cell_type": "markdown",
   "metadata": {},
   "source": [
    "## Exploring with Different Classifcation Models (SG)\n",
    "As a few models are done at the same time, this part of the program do take a while."
   ]
  },
  {
   "cell_type": "code",
   "execution_count": 14,
   "metadata": {},
   "outputs": [
    {
     "name": "stdout",
     "output_type": "stream",
     "text": [
      "Naive Bayes testing accuracy 0.78872\n",
      "Logistic Regression testing accuracy 0.80655\n",
      "Decision Tree testing accuracy 0.61624\n",
      "AdaBoost testing accuracy 0.67328\n"
     ]
    }
   ],
   "source": [
    "from sklearn.naive_bayes import MultinomialNB\n",
    "from sklearn.svm import SVC\n",
    "from sklearn.linear_model import LogisticRegression\n",
    "from sklearn.tree import DecisionTreeClassifier\n",
    "from sklearn.ensemble import RandomForestClassifier\n",
    "from sklearn.neighbors import KNeighborsClassifier\n",
    "from sklearn.ensemble import AdaBoostClassifier\n",
    "from sklearn.neural_network import MLPClassifier\n",
    "from sklearn.ensemble import ExtraTreesClassifier\n",
    "from sklearn.ensemble import GradientBoostingClassifier\n",
    "from xgboost import XGBClassifier\n",
    "from sklearn.metrics import accuracy_score\n",
    "from sklearn.metrics import f1_score\n",
    "import time\n",
    "import csv\n",
    "\n",
    "nb = MultinomialNB()\n",
    "svm = SVC(kernel='linear')\n",
    "# GridSearchCV Optimised \n",
    "#svm = SVC(kernel='rbf')\n",
    "lr = LogisticRegression( class_weight=\"balanced\", random_state=42, solver='liblinear', max_iter=10000, C = 1, penalty= 'l2')\n",
    "# GridSearchCV Optimised \n",
    "#lr = LogisticRegression( class_weight=\"balanced\", random_state=42, solver='liblinear', max_iter=10000, C = 2, penalty= 'l2')\n",
    "dt = DecisionTreeClassifier(max_depth=8, min_samples_split=50, min_samples_leaf=50, random_state=13)\n",
    "rf = RandomForestClassifier(n_estimators=10)\n",
    "knn = KNeighborsClassifier(n_neighbors=10)\n",
    "ada = AdaBoostClassifier(n_estimators=25)\n",
    "mlp = MLPClassifier(hidden_layer_sizes=(150,100,50), activation='relu', solver='adam', max_iter=100)\n",
    "et = ExtraTreesClassifier(n_estimators = 100)          \n",
    "gb = GradientBoostingClassifier(n_estimators = 100)    \n",
    "xgb = XGBClassifier(n_estimators= 2000, learning_rate=0.01)\n",
    "\n",
    "# define models\n",
    "#models = {\"Naive Bayes\" : nb,\n",
    "#          \"SVM\" : svm,\n",
    "#          \"Logistic Regression\" : lr,\n",
    "#          \"Decision Tree\" : dt,\n",
    "#          \"Random Forest\" : rf,\n",
    "#          \"KNeighborst\" : knn,\n",
    "#          \"AdaBoost\" : ada,\n",
    "#          \"Multi-Layer Perceptron\" : mlp,\n",
    "#          \"Extra Trees\" : et,\n",
    "#          \"Gradient Boosting\" : gb,\n",
    "#          \"Extreme Gradient Boosting\" : xgb}\n",
    "models = {\"Naive Bayes\" : nb,\n",
    "          \"Logistic Regression\" : lr,\n",
    "          \"Decision Tree\" : dt,\n",
    "          \"AdaBoost\" : ada}\n",
    "\n",
    "# Open file to write result of various models \n",
    "csvFile = open(\"result.csv\", 'w+', newline='')\n",
    "writer = csv.writer(csvFile)\n",
    "writer.writerow(('Model','Accuracy(train)','Accuracy(test)','Time'))\n",
    "\n",
    "# iterate through all models\n",
    "\n",
    "for key, value in models.items():   \n",
    "    start_time = time.time()\n",
    "    model = value\n",
    "\n",
    "    # fit & predict training score\n",
    "    model.fit(train_vectors, y_train)\n",
    "    y_train_predict = model.predict(train_vectors)\n",
    "    y_test_predict = model.predict(test_vectors)\n",
    "    \n",
    "    accuracy1 = round(accuracy_score(y_train, y_train_predict), 5)\n",
    "    accuracy2 = round(accuracy_score(y_test, y_test_predict), 5)\n",
    "#    accuracy3 = round(f1_score(y_test, y_test_predict), 5)\n",
    "    print (key, 'testing accuracy', accuracy2)\n",
    "    end_time = time.time()\n",
    "    elapsed_time = round((end_time - start_time), 5)\n",
    "\n",
    "    # Write result to file\n",
    "    writer.writerow ((key, accuracy1, accuracy2, elapsed_time))\n",
    "\n",
    "    # save the model to disk\n",
    "    #filename = 'finalized_model.sav'\n",
    "    filename = key + '_model.sav'\n",
    "    pickle.dump(model, open(filename, 'wb'))\n",
    "    \n",
    "#    # Make predictions on test data\n",
    "#    kag_y_test_predict = model.predict(kagtest_vectors)\n",
    "    \n",
    "#    # Prepare submission file   \n",
    "#    testdata['Outcome'] = kag_y_test_predict\n",
    "#    df_submit = testdata[['Id', 'Outcome']]\n",
    "#    filename = key + '_10.csv'\n",
    "#    df_submit.to_csv(filename, index=False, header=True)\n",
    "\n",
    "### CLOSE CSV FILE\n",
    "csvFile.close()"
   ]
  },
  {
   "cell_type": "code",
   "execution_count": 15,
   "metadata": {},
   "outputs": [
    {
     "name": "stdout",
     "output_type": "stream",
     "text": [
      "Sort by Testing Accuracy for the various models\n"
     ]
    },
    {
     "data": {
      "text/html": [
       "<div>\n",
       "<style scoped>\n",
       "    .dataframe tbody tr th:only-of-type {\n",
       "        vertical-align: middle;\n",
       "    }\n",
       "\n",
       "    .dataframe tbody tr th {\n",
       "        vertical-align: top;\n",
       "    }\n",
       "\n",
       "    .dataframe thead th {\n",
       "        text-align: right;\n",
       "    }\n",
       "</style>\n",
       "<table border=\"1\" class=\"dataframe\">\n",
       "  <thead>\n",
       "    <tr style=\"text-align: right;\">\n",
       "      <th></th>\n",
       "      <th>Accuracy(train)</th>\n",
       "      <th>Accuracy(test)</th>\n",
       "      <th>Time</th>\n",
       "    </tr>\n",
       "    <tr>\n",
       "      <th>Model</th>\n",
       "      <th></th>\n",
       "      <th></th>\n",
       "      <th></th>\n",
       "    </tr>\n",
       "  </thead>\n",
       "  <tbody>\n",
       "    <tr>\n",
       "      <th>Logistic Regression</th>\n",
       "      <td>0.86310</td>\n",
       "      <td>0.80655</td>\n",
       "      <td>49.45486</td>\n",
       "    </tr>\n",
       "    <tr>\n",
       "      <th>Naive Bayes</th>\n",
       "      <td>0.89906</td>\n",
       "      <td>0.78872</td>\n",
       "      <td>1.17934</td>\n",
       "    </tr>\n",
       "    <tr>\n",
       "      <th>AdaBoost</th>\n",
       "      <td>0.67358</td>\n",
       "      <td>0.67328</td>\n",
       "      <td>220.05336</td>\n",
       "    </tr>\n",
       "    <tr>\n",
       "      <th>Decision Tree</th>\n",
       "      <td>0.61586</td>\n",
       "      <td>0.61624</td>\n",
       "      <td>69.41445</td>\n",
       "    </tr>\n",
       "  </tbody>\n",
       "</table>\n",
       "</div>"
      ],
      "text/plain": [
       "                     Accuracy(train)  Accuracy(test)       Time\n",
       "Model                                                          \n",
       "Logistic Regression          0.86310         0.80655   49.45486\n",
       "Naive Bayes                  0.89906         0.78872    1.17934\n",
       "AdaBoost                     0.67358         0.67328  220.05336\n",
       "Decision Tree                0.61586         0.61624   69.41445"
      ]
     },
     "execution_count": 15,
     "metadata": {},
     "output_type": "execute_result"
    }
   ],
   "source": [
    "# Read result file from CSV\n",
    "result = pd.read_csv(\"result.csv\")\n",
    "\n",
    "# sort by testing accuracy\n",
    "print ('Sort by Testing Accuracy for the various models')\n",
    "result.sort_values(by=[\"Accuracy(test)\"], axis=0 ,ascending=False, inplace=True)\n",
    "result.set_index('Model')\n",
    "\n",
    "# TF-IDF\n",
    "#Logistic Regression\t0.79415\t0.78469\t11.47858\n",
    "#Naive Bayes        \t0.77418\t0.76226\t0.47203\n",
    "#Decision Tree      \t0.61696\t0.61683\t21.06831\n",
    "\n",
    "# TF-IDF (ngrams)\n",
    "#ngram = (1,2)\n",
    "#vectorizer = TfidfVectorizer(ngram_range = ngram)\n",
    "#Logistic Regression \t0.86243\t0.80435\t42.32039\n",
    "#Naive Bayes         \t0.89943\t0.78625\t1.13861\n",
    "#Decision Tree       \t0.61743\t0.61716\t64.05016"
   ]
  },
  {
   "cell_type": "code",
   "execution_count": 16,
   "metadata": {},
   "outputs": [
    {
     "name": "stdout",
     "output_type": "stream",
     "text": [
      "Graph showing the Testing Accuracy for the various models\n"
     ]
    },
    {
     "data": {
      "image/png": "[encoded data removed]",
      "text/plain": [
       "<Figure size 720x360 with 1 Axes>"
      ]
     },
     "metadata": {
      "needs_background": "light"
     },
     "output_type": "display_data"
    }
   ],
   "source": [
    "import seaborn as sns\n",
    "#from matplotlib import pyplot as plt\n",
    "import matplotlib.pyplot as plt\n",
    "# Plot testing accuracy for various models\n",
    "plt.figure(figsize=(10,5))\n",
    "sns.barplot(x=result['Model'],y=result[\"Accuracy(test)\"])\n",
    "plt.xticks(rotation=45) # Rotation of model names\n",
    "print ('Graph showing the Testing Accuracy for the various models')"
   ]
  },
  {
   "cell_type": "code",
   "execution_count": 17,
   "metadata": {},
   "outputs": [
    {
     "name": "stdout",
     "output_type": "stream",
     "text": [
      "Sort by Training Accuracy for the various models\n"
     ]
    },
    {
     "data": {
      "text/html": [
       "<div>\n",
       "<style scoped>\n",
       "    .dataframe tbody tr th:only-of-type {\n",
       "        vertical-align: middle;\n",
       "    }\n",
       "\n",
       "    .dataframe tbody tr th {\n",
       "        vertical-align: top;\n",
       "    }\n",
       "\n",
       "    .dataframe thead th {\n",
       "        text-align: right;\n",
       "    }\n",
       "</style>\n",
       "<table border=\"1\" class=\"dataframe\">\n",
       "  <thead>\n",
       "    <tr style=\"text-align: right;\">\n",
       "      <th></th>\n",
       "      <th>Accuracy(train)</th>\n",
       "      <th>Accuracy(test)</th>\n",
       "      <th>Time</th>\n",
       "    </tr>\n",
       "    <tr>\n",
       "      <th>Model</th>\n",
       "      <th></th>\n",
       "      <th></th>\n",
       "      <th></th>\n",
       "    </tr>\n",
       "  </thead>\n",
       "  <tbody>\n",
       "    <tr>\n",
       "      <th>Naive Bayes</th>\n",
       "      <td>0.89906</td>\n",
       "      <td>0.78872</td>\n",
       "      <td>1.17934</td>\n",
       "    </tr>\n",
       "    <tr>\n",
       "      <th>Logistic Regression</th>\n",
       "      <td>0.86310</td>\n",
       "      <td>0.80655</td>\n",
       "      <td>49.45486</td>\n",
       "    </tr>\n",
       "    <tr>\n",
       "      <th>AdaBoost</th>\n",
       "      <td>0.67358</td>\n",
       "      <td>0.67328</td>\n",
       "      <td>220.05336</td>\n",
       "    </tr>\n",
       "    <tr>\n",
       "      <th>Decision Tree</th>\n",
       "      <td>0.61586</td>\n",
       "      <td>0.61624</td>\n",
       "      <td>69.41445</td>\n",
       "    </tr>\n",
       "  </tbody>\n",
       "</table>\n",
       "</div>"
      ],
      "text/plain": [
       "                     Accuracy(train)  Accuracy(test)       Time\n",
       "Model                                                          \n",
       "Naive Bayes                  0.89906         0.78872    1.17934\n",
       "Logistic Regression          0.86310         0.80655   49.45486\n",
       "AdaBoost                     0.67358         0.67328  220.05336\n",
       "Decision Tree                0.61586         0.61624   69.41445"
      ]
     },
     "execution_count": 17,
     "metadata": {},
     "output_type": "execute_result"
    }
   ],
   "source": [
    "# Read result file from CSV\n",
    "result = pd.read_csv(\"result.csv\")\n",
    "\n",
    "# sort by training accuracy\n",
    "print ('Sort by Training Accuracy for the various models')\n",
    "result.sort_values(by=[\"Accuracy(train)\"], axis=0 ,ascending=False, inplace=True)\n",
    "result.set_index('Model')"
   ]
  },
  {
   "cell_type": "code",
   "execution_count": 18,
   "metadata": {},
   "outputs": [
    {
     "name": "stdout",
     "output_type": "stream",
     "text": [
      "Graph showing the Training Accuracy for the various models\n"
     ]
    },
    {
     "data": {
      "image/png": "[encoded data removed]",
      "text/plain": [
       "<Figure size 720x360 with 1 Axes>"
      ]
     },
     "metadata": {
      "needs_background": "light"
     },
     "output_type": "display_data"
    }
   ],
   "source": [
    "# Plot training accuracy for various models\n",
    "plt.figure(figsize=(10,5))\n",
    "sns.barplot(x=result['Model'],y=result[\"Accuracy(train)\"])\n",
    "plt.xticks(rotation=45) # Rotation of model names\n",
    "print ('Graph showing the Training Accuracy for the various models')"
   ]
  },
  {
   "cell_type": "code",
   "execution_count": 19,
   "metadata": {},
   "outputs": [
    {
     "name": "stdout",
     "output_type": "stream",
     "text": [
      "Sort by Processing Time for the various models\n"
     ]
    },
    {
     "data": {
      "text/html": [
       "<div>\n",
       "<style scoped>\n",
       "    .dataframe tbody tr th:only-of-type {\n",
       "        vertical-align: middle;\n",
       "    }\n",
       "\n",
       "    .dataframe tbody tr th {\n",
       "        vertical-align: top;\n",
       "    }\n",
       "\n",
       "    .dataframe thead th {\n",
       "        text-align: right;\n",
       "    }\n",
       "</style>\n",
       "<table border=\"1\" class=\"dataframe\">\n",
       "  <thead>\n",
       "    <tr style=\"text-align: right;\">\n",
       "      <th></th>\n",
       "      <th>Accuracy(train)</th>\n",
       "      <th>Accuracy(test)</th>\n",
       "      <th>Time</th>\n",
       "    </tr>\n",
       "    <tr>\n",
       "      <th>Model</th>\n",
       "      <th></th>\n",
       "      <th></th>\n",
       "      <th></th>\n",
       "    </tr>\n",
       "  </thead>\n",
       "  <tbody>\n",
       "    <tr>\n",
       "      <th>Naive Bayes</th>\n",
       "      <td>0.89906</td>\n",
       "      <td>0.78872</td>\n",
       "      <td>1.17934</td>\n",
       "    </tr>\n",
       "    <tr>\n",
       "      <th>Logistic Regression</th>\n",
       "      <td>0.86310</td>\n",
       "      <td>0.80655</td>\n",
       "      <td>49.45486</td>\n",
       "    </tr>\n",
       "    <tr>\n",
       "      <th>Decision Tree</th>\n",
       "      <td>0.61586</td>\n",
       "      <td>0.61624</td>\n",
       "      <td>69.41445</td>\n",
       "    </tr>\n",
       "    <tr>\n",
       "      <th>AdaBoost</th>\n",
       "      <td>0.67358</td>\n",
       "      <td>0.67328</td>\n",
       "      <td>220.05336</td>\n",
       "    </tr>\n",
       "  </tbody>\n",
       "</table>\n",
       "</div>"
      ],
      "text/plain": [
       "                     Accuracy(train)  Accuracy(test)       Time\n",
       "Model                                                          \n",
       "Naive Bayes                  0.89906         0.78872    1.17934\n",
       "Logistic Regression          0.86310         0.80655   49.45486\n",
       "Decision Tree                0.61586         0.61624   69.41445\n",
       "AdaBoost                     0.67358         0.67328  220.05336"
      ]
     },
     "execution_count": 19,
     "metadata": {},
     "output_type": "execute_result"
    }
   ],
   "source": [
    "# sort by timing\n",
    "print ('Sort by Processing Time for the various models')\n",
    "result.sort_values(by=[\"Time\"], axis=0 ,ascending=True, inplace=True)\n",
    "result.set_index('Model')"
   ]
  },
  {
   "cell_type": "code",
   "execution_count": 20,
   "metadata": {},
   "outputs": [
    {
     "name": "stdout",
     "output_type": "stream",
     "text": [
      "Graph showing the processing time for the various models\n"
     ]
    },
    {
     "data": {
      "image/png": "[encoded data removed]",
      "text/plain": [
       "<Figure size 720x360 with 1 Axes>"
      ]
     },
     "metadata": {
      "needs_background": "light"
     },
     "output_type": "display_data"
    }
   ],
   "source": [
    "# Plot training time for various models\n",
    "plt.figure(figsize=(10,5))\n",
    "sns.barplot(x=result['Model'],y=result[\"Time\"])\n",
    "plt.xticks(rotation=45) # Rotation of model names\n",
    "print ('Graph showing the processing time for the various models')"
   ]
  },
  {
   "cell_type": "markdown",
   "metadata": {},
   "source": [
    "#### The program shows that logistic regression classifier produces the best testing accuracy"
   ]
  },
  {
   "cell_type": "markdown",
   "metadata": {},
   "source": [
    "### Optimizing the Hyperparameters of Logistic Regression"
   ]
  },
  {
   "cell_type": "code",
   "execution_count": 33,
   "metadata": {},
   "outputs": [
    {
     "name": "stdout",
     "output_type": "stream",
     "text": [
      "Tuned hyperparameter parameters: {'solver': 'liblinear'}\n",
      "Best cross-validation score: 0.8027949714034832\n"
     ]
    }
   ],
   "source": [
    "#Step 1 : determine the best solver\n",
    "from sklearn.linear_model import LogisticRegression\n",
    "from sklearn.model_selection import GridSearchCV\n",
    "lg = LogisticRegression( class_weight=\"balanced\", random_state=42, max_iter=10000, penalty = 'l2')\n",
    "grid = {'solver': ['liblinear', 'lbfgs', 'sag', 'saga']} \n",
    "lg_cv = GridSearchCV(lg, grid, cv=5)\n",
    "lg_cv.fit(train_vectors, y_train)\n",
    "\n",
    "# Print hyperparameter\n",
    "print(\"Tuned hyperparameter parameters: {}\".format(lg_cv.best_params_)) \n",
    "print(\"Best cross-validation score: {}\".format(lg_cv.best_score_))"
   ]
  },
  {
   "cell_type": "code",
   "execution_count": 34,
   "metadata": {},
   "outputs": [
    {
     "name": "stdout",
     "output_type": "stream",
     "text": [
      "Tuned hyperparameter parameters: {'C': 1}\n",
      "Best cross-validation score: 0.8027949714034832\n"
     ]
    }
   ],
   "source": [
    "#Step 2 : Using solver = liblinear, determine the best C value\n",
    "from sklearn.linear_model import LogisticRegression\n",
    "from sklearn.model_selection import GridSearchCV\n",
    "lg = LogisticRegression( class_weight=\"balanced\", random_state=42, solver='liblinear', max_iter=10000, penalty = 'l2')\n",
    "grid = {'C': [0.001, 0.01, 0.1, 1, 10]}\n",
    "lg_cv = GridSearchCV(lg, grid, cv=5)\n",
    "lg_cv.fit(train_vectors, y_train)\n",
    "\n",
    "# Print hyperparameter\n",
    "print(\"Tuned hyperparameter parameters: {}\".format(lg_cv.best_params_)) \n",
    "print(\"Best cross-validation score: {}\".format(lg_cv.best_score_))"
   ]
  },
  {
   "cell_type": "code",
   "execution_count": 35,
   "metadata": {},
   "outputs": [
    {
     "name": "stdout",
     "output_type": "stream",
     "text": [
      "Tuned hyperparameter parameters: {'C': 1.7999999999999998}\n",
      "Best cross-validation score: 0.804008608355122\n"
     ]
    }
   ],
   "source": [
    "#Step 3 : Fine tuning the C value \n",
    "from sklearn.linear_model import LogisticRegression\n",
    "from sklearn.model_selection import GridSearchCV\n",
    "import numpy as np\n",
    "lg = LogisticRegression( class_weight=\"balanced\", random_state=42, solver='liblinear', max_iter=10000, penalty = 'l2')\n",
    "grid = {\"C\" : np.arange(0.5,2.51,0.1)}\n",
    "lg_cv = GridSearchCV(lg, grid, cv=5)\n",
    "lg_cv.fit(train_vectors, y_train)\n",
    "\n",
    "# Print hyperparameter\n",
    "print(\"Tuned hyperparameter parameters: {}\".format(lg_cv.best_params_)) \n",
    "print(\"Best cross-validation score: {}\".format(lg_cv.best_score_))"
   ]
  },
  {
   "cell_type": "markdown",
   "metadata": {},
   "source": [
    "### The best hyperparameters are solver = liblinear and C = 1.8"
   ]
  },
  {
   "cell_type": "markdown",
   "metadata": {},
   "source": [
    "### Cross Validation \n",
    "https://towardsdatascience.com/5-reasons-why-you-should-use-cross-validation-in-your-data-science-project-8163311a1e79\n",
    "\n",
    "Cross Validation is used to assess the predictive performance of the models and and to judge how they perform outside the sample to a new data set also known as test data. The motivation to use cross validation techniques is that when we fit a model, we are fitting it to a training dataset."
   ]
  },
  {
   "cell_type": "code",
   "execution_count": 36,
   "metadata": {},
   "outputs": [
    {
     "name": "stdout",
     "output_type": "stream",
     "text": [
      "Logistic Regression Average accuracy:  0.804909427397441\n",
      "Logistic Regression Standard Deviation:  0.0010851795233134483\n"
     ]
    }
   ],
   "source": [
    "# Cross validation for top 4 algorithms\n",
    "from sklearn.naive_bayes import MultinomialNB\n",
    "from sklearn.linear_model import LogisticRegression\n",
    "from sklearn.tree import DecisionTreeClassifier\n",
    "from sklearn.ensemble import AdaBoostClassifier\n",
    "from sklearn.model_selection import cross_val_score\n",
    "\n",
    "nb = MultinomialNB()\n",
    "lr = LogisticRegression( class_weight=\"balanced\", random_state=42, solver='liblinear', max_iter=10000, C = 1.8, penalty= 'l2')\n",
    "dt = DecisionTreeClassifier(max_depth=8, min_samples_split=50, min_samples_leaf=50, random_state=13)\n",
    "ada = AdaBoostClassifier(n_estimators=100)       \n",
    "\n",
    "accuracies_lr = cross_val_score(estimator=lr, X=train_vectors, y=y_train, cv=10)\n",
    "print(\"Logistic Regression Average accuracy: \", accuracies_lr.mean())\n",
    "print(\"Logistic Regression Standard Deviation: \", accuracies_lr.std())\n",
    "\n",
    "#accuracies_dt = cross_val_score(estimator=dt, X=train_vectors, y=y_train, cv=10)\n",
    "#print(\"Decision Tree Average accuracy: \", accuracies_dt.mean())\n",
    "#print(\"Decision Tree Standard Deviation: \", accuracies_dt.std())\n",
    "\n",
    "#accuracies_nb = cross_val_score(estimator=nb, X=train_vectors, y=y_train, cv=10)\n",
    "#print(\"Naive Bayes Average accuracy: \", accuracies_dt.mean())\n",
    "#print(\"Naive Bayes Standard Deviation: \", accuracies_dt.std())\n",
    "\n",
    "#accuracies_ada = cross_val_score(estimator=ada, X=train_vectors, y=y_train, cv=10)\n",
    "#print(\"AdaBoosting Average accuracy: \", accuracies_ada.mean())\n",
    "#print(\"AdaBoosting Standard Deviation: \", accuracies_ada.std())"
   ]
  },
  {
   "cell_type": "code",
   "execution_count": 22,
   "metadata": {},
   "outputs": [
    {
     "name": "stdout",
     "output_type": "stream",
     "text": [
      "LogisticRegression(C=1.8, class_weight='balanced', dual=False,\n",
      "                   fit_intercept=True, intercept_scaling=1, l1_ratio=None,\n",
      "                   max_iter=10000, multi_class='auto', n_jobs=None,\n",
      "                   penalty='l2', random_state=42, solver='liblinear',\n",
      "                   tol=0.0001, verbose=0, warm_start=False)\n",
      "Optimized Logistic Regression Training accuracy: 0.89084\n",
      "Optimized Logistic Regression Testing accuracy: 0.80734\n",
      "Confusion metrics :\n",
      " [[128471  30886]\n",
      " [ 30537 128920]]\n"
     ]
    }
   ],
   "source": [
    "# Using the best parameters to build and save model\n",
    "from sklearn.linear_model import LogisticRegression\n",
    "from sklearn.metrics import accuracy_score\n",
    "from sklearn import metrics\n",
    "import csv\n",
    "\n",
    "lr = LogisticRegression( class_weight=\"balanced\", random_state=42, solver='liblinear', max_iter=10000, C = 1.8, penalty= 'l2')\n",
    "print (lr)  \n",
    "\n",
    "# fit & predict training score\n",
    "model = lr.fit(train_vectors, y_train)\n",
    "y_train_predict = model.predict(train_vectors)\n",
    "y_test_predict = model.predict(test_vectors)\n",
    "    \n",
    "accuracy1 = round(accuracy_score(y_train, y_train_predict), 5)\n",
    "accuracy2 = round(accuracy_score(y_test, y_test_predict), 5)\n",
    "print ('Optimized Logistic Regression Training accuracy:', accuracy1)\n",
    "print ('Optimized Logistic Regression Testing accuracy:', accuracy2)\n",
    "print('Confusion metrics :\\n', metrics.confusion_matrix(y_test, y_test_predict))\n",
    "\n",
    "# save the model to disk\n",
    "filename = 'lropt_model.sav'\n",
    "pickle.dump(model, open(filename, 'wb'))\n"
   ]
  },
  {
   "cell_type": "markdown",
   "metadata": {},
   "source": [
    "# Classification of NTU, NUS & SMU Tweets"
   ]
  },
  {
   "cell_type": "code",
   "execution_count": 53,
   "metadata": {},
   "outputs": [],
   "source": [
    "#Reading tweets from NTU, NUS & SMU\n",
    "import pandas as pd\n",
    "import re\n",
    "import pickle\n",
    "from tqdm import tqdm_notebook"
   ]
  },
  {
   "cell_type": "code",
   "execution_count": 66,
   "metadata": {},
   "outputs": [
    {
     "name": "stdout",
     "output_type": "stream",
     "text": [
      "(2383, 3) (2818, 3) (3000, 3)\n"
     ]
    },
    {
     "data": {
      "text/html": [
       "<div>\n",
       "<style scoped>\n",
       "    .dataframe tbody tr th:only-of-type {\n",
       "        vertical-align: middle;\n",
       "    }\n",
       "\n",
       "    .dataframe tbody tr th {\n",
       "        vertical-align: top;\n",
       "    }\n",
       "\n",
       "    .dataframe thead th {\n",
       "        text-align: right;\n",
       "    }\n",
       "</style>\n",
       "<table border=\"1\" class=\"dataframe\">\n",
       "  <thead>\n",
       "    <tr style=\"text-align: right;\">\n",
       "      <th></th>\n",
       "      <th>Unnamed: 0</th>\n",
       "      <th>tweet</th>\n",
       "      <th>date_tweet</th>\n",
       "    </tr>\n",
       "  </thead>\n",
       "  <tbody>\n",
       "    <tr>\n",
       "      <th>0</th>\n",
       "      <td>0</td>\n",
       "      <td>@IruraMwongera @Amen_Baba_ KOUMA (to be dry KM...</td>\n",
       "      <td>9/2/2020 7:36</td>\n",
       "    </tr>\n",
       "    <tr>\n",
       "      <th>1</th>\n",
       "      <td>1</td>\n",
       "      <td>You know how everyone’s introducing themselves...</td>\n",
       "      <td>9/2/2020 7:25</td>\n",
       "    </tr>\n",
       "    <tr>\n",
       "      <th>2</th>\n",
       "      <td>2</td>\n",
       "      <td>is ntu rly not gonna move big-group lectures o...</td>\n",
       "      <td>9/2/2020 7:07</td>\n",
       "    </tr>\n",
       "    <tr>\n",
       "      <th>3</th>\n",
       "      <td>3</td>\n",
       "      <td>But also, the Chinese speaking groups that ope...</td>\n",
       "      <td>9/2/2020 6:19</td>\n",
       "    </tr>\n",
       "    <tr>\n",
       "      <th>4</th>\n",
       "      <td>4</td>\n",
       "      <td>@MigunaMiguna @DrMumbiSeraki When your faced w...</td>\n",
       "      <td>9/2/2020 5:54</td>\n",
       "    </tr>\n",
       "  </tbody>\n",
       "</table>\n",
       "</div>"
      ],
      "text/plain": [
       "   Unnamed: 0                                              tweet  \\\n",
       "0           0  @IruraMwongera @Amen_Baba_ KOUMA (to be dry KM...   \n",
       "1           1  You know how everyone’s introducing themselves...   \n",
       "2           2  is ntu rly not gonna move big-group lectures o...   \n",
       "3           3  But also, the Chinese speaking groups that ope...   \n",
       "4           4  @MigunaMiguna @DrMumbiSeraki When your faced w...   \n",
       "\n",
       "      date_tweet  \n",
       "0  9/2/2020 7:36  \n",
       "1  9/2/2020 7:25  \n",
       "2  9/2/2020 7:07  \n",
       "3  9/2/2020 6:19  \n",
       "4  9/2/2020 5:54  "
      ]
     },
     "execution_count": 66,
     "metadata": {},
     "output_type": "execute_result"
    }
   ],
   "source": [
    "ntu = pd.read_csv(\"ntu0.csv\")\n",
    "nus = pd.read_csv(\"nus0.csv\")\n",
    "smu = pd.read_csv(\"smu0.csv\")\n",
    "ntu = ntu.drop([\"tweet_id\", \"keyword\",\"user\"],axis=1)\n",
    "nus = nus.drop([\"tweet_id\",\"keyword\",\"user\"],axis=1)\n",
    "smu = smu.drop([\"tweet_id\",\"keyword\",\"user\"],axis=1)\n",
    "print (ntu.shape, nus.shape, smu.shape)\n",
    "ntu.head()"
   ]
  },
  {
   "cell_type": "code",
   "execution_count": 67,
   "metadata": {},
   "outputs": [
    {
     "name": "stdout",
     "output_type": "stream",
     "text": [
      "Cleaning Tweets: \n"
     ]
    },
    {
     "name": "stderr",
     "output_type": "stream",
     "text": [
      "C:\\Users\\koh swee guan\\Anaconda3\\lib\\site-packages\\ipykernel_launcher.py:6: TqdmDeprecationWarning: This function will be removed in tqdm==5.0.0\n",
      "Please use `tqdm.notebook.tqdm` instead of `tqdm.tqdm_notebook`\n",
      "  \n"
     ]
    },
    {
     "data": {
      "application/vnd.jupyter.widget-view+json": {
       "model_id": "fb73037b54154cce83c0f7abafe1f499",
       "version_major": 2,
       "version_minor": 0
      },
      "text/plain": [
       "HBox(children=(FloatProgress(value=0.0, max=2383.0), HTML(value='')))"
      ]
     },
     "metadata": {},
     "output_type": "display_data"
    },
    {
     "name": "stdout",
     "output_type": "stream",
     "text": [
      "\n"
     ]
    },
    {
     "name": "stderr",
     "output_type": "stream",
     "text": [
      "C:\\Users\\koh swee guan\\Anaconda3\\lib\\site-packages\\ipykernel_launcher.py:7: TqdmDeprecationWarning: This function will be removed in tqdm==5.0.0\n",
      "Please use `tqdm.notebook.tqdm` instead of `tqdm.tqdm_notebook`\n",
      "  import sys\n"
     ]
    },
    {
     "data": {
      "application/vnd.jupyter.widget-view+json": {
       "model_id": "6e06735dea4b407a961d8e8e2e29e4c2",
       "version_major": 2,
       "version_minor": 0
      },
      "text/plain": [
       "HBox(children=(FloatProgress(value=0.0, max=2818.0), HTML(value='')))"
      ]
     },
     "metadata": {},
     "output_type": "display_data"
    },
    {
     "name": "stdout",
     "output_type": "stream",
     "text": [
      "\n"
     ]
    },
    {
     "name": "stderr",
     "output_type": "stream",
     "text": [
      "C:\\Users\\koh swee guan\\Anaconda3\\lib\\site-packages\\ipykernel_launcher.py:8: TqdmDeprecationWarning: This function will be removed in tqdm==5.0.0\n",
      "Please use `tqdm.notebook.tqdm` instead of `tqdm.tqdm_notebook`\n",
      "  \n"
     ]
    },
    {
     "data": {
      "application/vnd.jupyter.widget-view+json": {
       "model_id": "fbeaab106a954fae8265ed07342258a2",
       "version_major": 2,
       "version_minor": 0
      },
      "text/plain": [
       "HBox(children=(FloatProgress(value=0.0, max=3000.0), HTML(value='')))"
      ]
     },
     "metadata": {},
     "output_type": "display_data"
    },
    {
     "name": "stdout",
     "output_type": "stream",
     "text": [
      "\n"
     ]
    }
   ],
   "source": [
    "from tqdm import tqdm_notebook\n",
    "ntutweets = ntu.tweet\n",
    "nustweets = nus.tweet\n",
    "smutweets = smu.tweet\n",
    "print(\"Cleaning Tweets: \")\n",
    "ntutweets = [cleanText(t) for t in tqdm_notebook(ntutweets)]\n",
    "nustweets = [cleanText(t) for t in tqdm_notebook(nustweets)]\n",
    "smutweets = [cleanText(t) for t in tqdm_notebook(smutweets)]\n",
    "ntudate = ntu.date_tweet\n",
    "nusdate = nus.date_tweet\n",
    "smudate = smu.date_tweet\n"
   ]
  },
  {
   "cell_type": "markdown",
   "metadata": {},
   "source": [
    "### Save tweets for use later"
   ]
  },
  {
   "cell_type": "code",
   "execution_count": 68,
   "metadata": {},
   "outputs": [],
   "source": [
    "#Save the processed tweets for later use\n",
    "# save ntu tweets\n",
    "with open('ntutweets.pickle', 'wb') as f:\n",
    "    pickle.dump(ntutweets, f)\n",
    "with open('ntudate.pickle', 'wb') as f:\n",
    "    pickle.dump(ntudate, f)\n",
    "\n",
    "# save nus tweets\n",
    "with open('nustweets.pickle', 'wb') as f:\n",
    "    pickle.dump(nustweets, f)\n",
    "with open('nusdate.pickle', 'wb') as f:\n",
    "    pickle.dump(nusdate, f)  \n",
    "\n",
    "# save smu tweets\n",
    "with open('smutweets.pickle', 'wb') as f:\n",
    "    pickle.dump(smutweets, f)\n",
    "with open('smudate.pickle', 'wb') as f:\n",
    "    pickle.dump(smudate, f)    "
   ]
  },
  {
   "cell_type": "markdown",
   "metadata": {},
   "source": [
    "### Load the tweets on various universities and saving to csv"
   ]
  },
  {
   "cell_type": "code",
   "execution_count": 69,
   "metadata": {},
   "outputs": [],
   "source": [
    "# Load ntu data\n",
    "with open('ntutweets.pickle', 'rb') as f:\n",
    "    ntutweets = pickle.load(f)\n",
    "with open('ntudate.pickle', 'rb') as f:\n",
    "    ntudate = pickle.load(f)\n",
    "    \n",
    "# Load nus data\n",
    "with open('nustweets.pickle', 'rb') as f:\n",
    "    nustweets = pickle.load(f)\n",
    "with open('nusdate.pickle', 'rb') as f:\n",
    "    nusdate = pickle.load(f)\n",
    "    \n",
    "# Load smu data\n",
    "with open('smutweets.pickle', 'rb') as f:\n",
    "    smutweets = pickle.load(f)\n",
    "with open('smudate.pickle', 'rb') as f:\n",
    "    smudate = pickle.load(f)"
   ]
  },
  {
   "cell_type": "code",
   "execution_count": 70,
   "metadata": {},
   "outputs": [],
   "source": [
    "### Saving tweets as dataframe"
   ]
  },
  {
   "cell_type": "code",
   "execution_count": 71,
   "metadata": {},
   "outputs": [
    {
     "name": "stdout",
     "output_type": "stream",
     "text": [
      "\u001b[34mSaving data\u001b[0m\n"
     ]
    },
    {
     "data": {
      "text/html": [
       "<div>\n",
       "<style scoped>\n",
       "    .dataframe tbody tr th:only-of-type {\n",
       "        vertical-align: middle;\n",
       "    }\n",
       "\n",
       "    .dataframe tbody tr th {\n",
       "        vertical-align: top;\n",
       "    }\n",
       "\n",
       "    .dataframe thead th {\n",
       "        text-align: right;\n",
       "    }\n",
       "</style>\n",
       "<table border=\"1\" class=\"dataframe\">\n",
       "  <thead>\n",
       "    <tr style=\"text-align: right;\">\n",
       "      <th></th>\n",
       "      <th>Tweet</th>\n",
       "      <th>Date</th>\n",
       "    </tr>\n",
       "  </thead>\n",
       "  <tbody>\n",
       "    <tr>\n",
       "      <th>0</th>\n",
       "      <td>kouma dri KM kaa ukaa charcoal appear = black ...</td>\n",
       "      <td>9/2/2020 7:36</td>\n",
       "    </tr>\n",
       "    <tr>\n",
       "      <th>1</th>\n",
       "      <td>you know everyon introduc ntu student pursu ba...</td>\n",
       "      <td>9/2/2020 7:25</td>\n",
       "    </tr>\n",
       "    <tr>\n",
       "      <th>2</th>\n",
       "      <td>ntu rli not gon na move big-group lectur onlin</td>\n",
       "      <td>9/2/2020 7:07</td>\n",
       "    </tr>\n",
       "    <tr>\n",
       "      <th>3</th>\n",
       "      <td>but also chines speak group oper dialect would...</td>\n",
       "      <td>9/2/2020 6:19</td>\n",
       "    </tr>\n",
       "    <tr>\n",
       "      <th>4</th>\n",
       "      <td>when face forc mightier It advis humbl even ri...</td>\n",
       "      <td>9/2/2020 5:54</td>\n",
       "    </tr>\n",
       "  </tbody>\n",
       "</table>\n",
       "</div>"
      ],
      "text/plain": [
       "                                               Tweet           Date\n",
       "0  kouma dri KM kaa ukaa charcoal appear = black ...  9/2/2020 7:36\n",
       "1  you know everyon introduc ntu student pursu ba...  9/2/2020 7:25\n",
       "2    ntu rli not gon na move big-group lectur onlin   9/2/2020 7:07\n",
       "3  but also chines speak group oper dialect would...  9/2/2020 6:19\n",
       "4  when face forc mightier It advis humbl even ri...  9/2/2020 5:54"
      ]
     },
     "execution_count": 71,
     "metadata": {},
     "output_type": "execute_result"
    }
   ],
   "source": [
    "from termcolor import colored\n",
    "# Save as dataframe\n",
    "ntu_data = pd.DataFrame({\n",
    "    'Tweet': ntutweets,\n",
    "    'Date': ntudate\n",
    "    })\n",
    "\n",
    "nus_data = pd.DataFrame({\n",
    "    'Tweet': nustweets,\n",
    "    'Date': nusdate\n",
    "    })\n",
    "\n",
    "smu_data = pd.DataFrame({\n",
    "    'Tweet': smutweets,\n",
    "    'Date': smudate\n",
    "    })\n",
    "\n",
    "# Save data\n",
    "print(colored(\"Saving data\", \"blue\"))\n",
    "ntu_data.to_csv('ntu_data.csv', index = False)\n",
    "nus_data.to_csv('nus_data.csv', index = False)\n",
    "smu_data.to_csv('smu_data.csv', index = False)\n",
    "ntu_data.head()"
   ]
  },
  {
   "cell_type": "markdown",
   "metadata": {},
   "source": [
    "### Load the CSV files on various universities "
   ]
  },
  {
   "cell_type": "code",
   "execution_count": 72,
   "metadata": {},
   "outputs": [
    {
     "name": "stdout",
     "output_type": "stream",
     "text": [
      "(2383, 2)\n",
      "(2818, 2)\n",
      "(3000, 2)\n"
     ]
    },
    {
     "data": {
      "text/html": [
       "<div>\n",
       "<style scoped>\n",
       "    .dataframe tbody tr th:only-of-type {\n",
       "        vertical-align: middle;\n",
       "    }\n",
       "\n",
       "    .dataframe tbody tr th {\n",
       "        vertical-align: top;\n",
       "    }\n",
       "\n",
       "    .dataframe thead th {\n",
       "        text-align: right;\n",
       "    }\n",
       "</style>\n",
       "<table border=\"1\" class=\"dataframe\">\n",
       "  <thead>\n",
       "    <tr style=\"text-align: right;\">\n",
       "      <th></th>\n",
       "      <th>Tweet</th>\n",
       "      <th>Date</th>\n",
       "    </tr>\n",
       "  </thead>\n",
       "  <tbody>\n",
       "    <tr>\n",
       "      <th>0</th>\n",
       "      <td>miss smu much</td>\n",
       "      <td>14/2/2020 7:52</td>\n",
       "    </tr>\n",
       "    <tr>\n",
       "      <th>1</th>\n",
       "      <td>happi valentin everyon special loml</td>\n",
       "      <td>14/2/2020 7:48</td>\n",
       "    </tr>\n",
       "    <tr>\n",
       "      <th>2</th>\n",
       "      <td>move friday # unt # uta # smu # utd # tcu</td>\n",
       "      <td>14/2/2020 7:30</td>\n",
       "    </tr>\n",
       "    <tr>\n",
       "      <th>3</th>\n",
       "      <td>now parad beauti smu # smucampusperson</td>\n",
       "      <td>14/2/2020 7:26</td>\n",
       "    </tr>\n",
       "    <tr>\n",
       "      <th>4</th>\n",
       "      <td>Go get r done sunday stud love watch smu</td>\n",
       "      <td>14/2/2020 7:15</td>\n",
       "    </tr>\n",
       "  </tbody>\n",
       "</table>\n",
       "</div>"
      ],
      "text/plain": [
       "                                        Tweet            Date\n",
       "0                              miss smu much   14/2/2020 7:52\n",
       "1        happi valentin everyon special loml   14/2/2020 7:48\n",
       "2  move friday # unt # uta # smu # utd # tcu   14/2/2020 7:30\n",
       "3     now parad beauti smu # smucampusperson   14/2/2020 7:26\n",
       "4   Go get r done sunday stud love watch smu   14/2/2020 7:15"
      ]
     },
     "execution_count": 72,
     "metadata": {},
     "output_type": "execute_result"
    }
   ],
   "source": [
    "ntu_data = pd.read_csv(\"ntu_data.csv\")\n",
    "print (ntu_data.shape)\n",
    "ntu_data.head()\n",
    "\n",
    "nus_data = pd.read_csv(\"nus_data.csv\")\n",
    "print (nus_data.shape)\n",
    "nus_data.head()\n",
    "\n",
    "smu_data = pd.read_csv(\"smu_data.csv\")\n",
    "print (smu_data.shape)\n",
    "smu_data.head()"
   ]
  },
  {
   "cell_type": "code",
   "execution_count": 73,
   "metadata": {},
   "outputs": [
    {
     "name": "stdout",
     "output_type": "stream",
     "text": [
      "(2383, 2)\n",
      "There is 3 missing values in ntu data frame\n",
      "(2380, 2)\n",
      "(2818, 2)\n",
      "There is 0 missing values in nus data frame\n",
      "There is 0 missing values in smu data frame\n",
      "(2997, 2)\n"
     ]
    }
   ],
   "source": [
    "# Remove null from ntu data\n",
    "\n",
    "#df = df.dropna(axis=0, subset=['Charge_Per_Line'])\n",
    "print (ntu_data.shape)\n",
    "print(\"There is {} missing values in ntu data frame\".format(ntu_data.isnull().sum().sum()))\n",
    "ntu_data = ntu_data.dropna()\n",
    "print (ntu_data.shape)\n",
    "\n",
    "# Remove null from nus data\n",
    "print (nus_data.shape)\n",
    "print(\"There is {} missing values in nus data frame\".format(nus_data.isnull().sum().sum()))\n",
    "nus_datadata = nus_data.dropna()\n",
    "\n",
    "# Remove null from smu data\n",
    "print(\"There is {} missing values in smu data frame\".format(ntu_data.isnull().sum().sum()))\n",
    "smu_data = smu_data.dropna()\n",
    "print (smu_data.shape)"
   ]
  },
  {
   "cell_type": "code",
   "execution_count": 74,
   "metadata": {},
   "outputs": [],
   "source": [
    "train = pd.read_csv(\"train.csv\", encoding = \"ISO-8859-1\")\n",
    "test = pd.read_csv(\"test.csv\", encoding = \"ISO-8859-1\")\n",
    "train = train.dropna()\n",
    "test = test.dropna()\n",
    "x_train = train['Tweet']\n",
    "y_train = train['Sentiment']\n",
    "x_test = test[\"Tweet\"]\n",
    "y_test = test['Sentiment']"
   ]
  },
  {
   "cell_type": "code",
   "execution_count": 75,
   "metadata": {},
   "outputs": [],
   "source": [
    "from sklearn.feature_extraction.text import TfidfVectorizer\n",
    "# Create feature vectors\n",
    "#vectorizer = TfidfVectorizer(min_df = 5,\n",
    "#                             max_df = 0.8,\n",
    "#                             sublinear_tf = True,\n",
    "#                             use_idf = True)\n",
    "ngram = (1,2)\n",
    "vectorizer = TfidfVectorizer(ngram_range = ngram)\n",
    "train_vectors = vectorizer.fit_transform(x_train)\n",
    "test_vectors = vectorizer.transform(x_test)\n",
    "ntu_vectors = vectorizer.transform(ntu_data['Tweet'])\n",
    "nus_vectors = vectorizer.transform(nus_data['Tweet'])\n",
    "smu_vectors = vectorizer.transform(smu_data['Tweet'])"
   ]
  },
  {
   "cell_type": "code",
   "execution_count": 76,
   "metadata": {},
   "outputs": [
    {
     "name": "stdout",
     "output_type": "stream",
     "text": [
      "AdaBoost testing accuracy 0.80734\n",
      "AdaBoost training accuracy 0.89084\n",
      "Classifying NTU Tweets\n",
      "Classifying NUS Tweets\n",
      "Classifying SMU Tweets\n"
     ]
    }
   ],
   "source": [
    "from sklearn.linear_model import LogisticRegression\n",
    "from sklearn.metrics import accuracy_score\n",
    "import pickle\n",
    "import time\n",
    "import csv\n",
    "\n",
    "# load the model from disk\n",
    "loaded_model = pickle.load(open('lropt_model.sav', 'rb'))\n",
    "\n",
    "#Checking the training and testing accuracy\n",
    "y_train_predict = loaded_model.predict(train_vectors)\n",
    "y_test_predict = loaded_model.predict(test_vectors)\n",
    "    \n",
    "accuracy1 = round(accuracy_score(y_train, y_train_predict), 5)\n",
    "accuracy2 = round(accuracy_score(y_test, y_test_predict), 5)\n",
    "\n",
    "print (key, 'testing accuracy', accuracy2)\n",
    "print (key, 'training accuracy', accuracy1) \n",
    "    \n",
    "# Make classification on tweets data\n",
    "print ('Classifying NTU Tweets')\n",
    "ntu_y_test_predict = loaded_model.predict(ntu_vectors)\n",
    "\n",
    "print ('Classifying NUS Tweets')\n",
    "nus_y_test_predict = loaded_model.predict(nus_vectors)\n",
    "\n",
    "print ('Classifying SMU Tweets')\n",
    "smu_y_test_predict = loaded_model.predict(smu_vectors)\n",
    "    \n",
    "# Prepare analysis file\n",
    "# NTU\n",
    "ntu_data['Sentiment'] = ntu_y_test_predict\n",
    "ntu_submit = ntu_data[['Date', 'Sentiment']]\n",
    "ntu_submit.to_csv('ntu_sent.csv', index=False, header=True)\n",
    "\n",
    "# NUS\n",
    "nus_data['Sentiment'] = nus_y_test_predict\n",
    "nus_submit = nus_data[['Date', 'Sentiment']]\n",
    "nus_submit.to_csv('nus_sent.csv', index=False, header=True)\n",
    "\n",
    "# SMU\n",
    "smu_data['Sentiment'] = smu_y_test_predict\n",
    "smu_submit = smu_data[['Date', 'Sentiment']]\n",
    "smu_submit.to_csv('smu_sent.csv', index=False, header=True)\n"
   ]
  },
  {
   "cell_type": "markdown",
   "metadata": {},
   "source": [
    "### We can start understand the tweets from the classification"
   ]
  },
  {
   "cell_type": "code",
   "execution_count": 77,
   "metadata": {},
   "outputs": [
    {
     "data": {
      "text/html": [
       "<div>\n",
       "<style scoped>\n",
       "    .dataframe tbody tr th:only-of-type {\n",
       "        vertical-align: middle;\n",
       "    }\n",
       "\n",
       "    .dataframe tbody tr th {\n",
       "        vertical-align: top;\n",
       "    }\n",
       "\n",
       "    .dataframe thead th {\n",
       "        text-align: right;\n",
       "    }\n",
       "</style>\n",
       "<table border=\"1\" class=\"dataframe\">\n",
       "  <thead>\n",
       "    <tr style=\"text-align: right;\">\n",
       "      <th></th>\n",
       "      <th>Sentiment</th>\n",
       "    </tr>\n",
       "  </thead>\n",
       "  <tbody>\n",
       "    <tr>\n",
       "      <th>count</th>\n",
       "      <td>2380.000000</td>\n",
       "    </tr>\n",
       "    <tr>\n",
       "      <th>mean</th>\n",
       "      <td>2.857143</td>\n",
       "    </tr>\n",
       "    <tr>\n",
       "      <th>std</th>\n",
       "      <td>1.807396</td>\n",
       "    </tr>\n",
       "    <tr>\n",
       "      <th>min</th>\n",
       "      <td>0.000000</td>\n",
       "    </tr>\n",
       "    <tr>\n",
       "      <th>25%</th>\n",
       "      <td>0.000000</td>\n",
       "    </tr>\n",
       "    <tr>\n",
       "      <th>50%</th>\n",
       "      <td>4.000000</td>\n",
       "    </tr>\n",
       "    <tr>\n",
       "      <th>75%</th>\n",
       "      <td>4.000000</td>\n",
       "    </tr>\n",
       "    <tr>\n",
       "      <th>max</th>\n",
       "      <td>4.000000</td>\n",
       "    </tr>\n",
       "  </tbody>\n",
       "</table>\n",
       "</div>"
      ],
      "text/plain": [
       "         Sentiment\n",
       "count  2380.000000\n",
       "mean      2.857143\n",
       "std       1.807396\n",
       "min       0.000000\n",
       "25%       0.000000\n",
       "50%       4.000000\n",
       "75%       4.000000\n",
       "max       4.000000"
      ]
     },
     "execution_count": 77,
     "metadata": {},
     "output_type": "execute_result"
    }
   ],
   "source": [
    "ntu_sent = pd.read_csv(\"ntu_sent.csv\")\n",
    "nus_sent = pd.read_csv(\"nus_sent.csv\")\n",
    "smu_sent = pd.read_csv(\"smu_sent.csv\")\n",
    "ntu_sent.head()\n",
    "ntu_sent.describe()"
   ]
  },
  {
   "cell_type": "markdown",
   "metadata": {},
   "source": [
    "### ???? To try multiplot on same graph"
   ]
  },
  {
   "cell_type": "code",
   "execution_count": 81,
   "metadata": {},
   "outputs": [
    {
     "name": "stdout",
     "output_type": "stream",
     "text": [
      "\u001b[31mNTU Sentiment distribution:\u001b[0m\n",
      "4    1700\n",
      "0     680\n",
      "Name: Sentiment, dtype: int64\n",
      "\u001b[34mNUS Sentiment distribution:\u001b[0m\n",
      "4    1810\n",
      "0    1008\n",
      "Name: Sentiment, dtype: int64\n"
     ]
    },
    {
     "data": {
      "text/plain": [
       "<matplotlib.axes._subplots.AxesSubplot at 0x25a9192b2e8>"
      ]
     },
     "execution_count": 81,
     "metadata": {},
     "output_type": "execute_result"
    },
    {
     "data": {
      "image/png": "[encoded data removed]",
      "text/plain": [
       "<Figure size 432x288 with 1 Axes>"
      ]
     },
     "metadata": {
      "needs_background": "light"
     },
     "output_type": "display_data"
    }
   ],
   "source": [
    "#### to try\n",
    "# checking dataset of NTU - try to use multiplot on same graph\n",
    "print(colored(\"NTU Sentiment distribution:\", \"red\"))\n",
    "print(ntu_sent['Sentiment'].value_counts())\n",
    "print(colored(\"NUS Sentiment distribution:\", \"blue\"))\n",
    "print(nus_sent['Sentiment'].value_counts())\n",
    "\n",
    "import seaborn as sns\n",
    "ntu_sent.groupby(\"Sentiment\").count()\n",
    "#traindata[[\"cardio\",\"height\"]].groupby(\"Outcome\").count()\n",
    "sns.countplot(x=\"Sentiment\", data=ntu_sent, palette=\"Set1\")\n",
    "#print ('NTU Tweets Sentiment')\n",
    "\n",
    "#nus_sent.groupby(\"Sentiment\").count()\n",
    "#traindata[[\"cardio\",\"height\"]].groupby(\"Outcome\").count()\n",
    "#sns.countplot(x=\"Sentiment\", data=nus_sent, palette=\"Set1\", newfig=False)\n",
    "#print ('NTU/NUS Tweets Sentiment')\n",
    "\n",
    "# test 7; more than one file per figure--illustrated here with a single file\n",
    "#plt.plotfile(fname2, cols=(0, 1), delimiter=' ')\n",
    "#plt.plotfile(fname2, cols=(0, 2), newfig=False,\n",
    "#             delimiter=' ')  # use current figure"
   ]
  },
  {
   "cell_type": "code",
   "execution_count": null,
   "metadata": {},
   "outputs": [],
   "source": [
    "# checking dataset of NTU\n",
    "import seaborn as sns\n",
    "ntu_sent.groupby(\"Sentiment\").count()\n",
    "#traindata[[\"cardio\",\"height\"]].groupby(\"Outcome\").count()\n",
    "sns.countplot(x=\"Sentiment\", data=ntu_sent, palette=\"Set1\")\n",
    "print ('NTU Tweets Sentiment')\n",
    "\n",
    "print(colored(\"NTU Sentiment distribution:\", \"red\"))\n",
    "print(ntu_sent['Sentiment'].value_counts())\n"
   ]
  },
  {
   "cell_type": "code",
   "execution_count": null,
   "metadata": {},
   "outputs": [],
   "source": [
    "# checking dataset of NUS\n",
    "import seaborn as sns\n",
    "nus_sent.groupby(\"Sentiment\").count()\n",
    "#traindata[[\"cardio\",\"height\"]].groupby(\"Outcome\").count()\n",
    "sns.countplot(x=\"Sentiment\", data=nus_sent, palette=\"Set1\")\n",
    "print ('NUS Tweets Sentiment')\n",
    "\n",
    "# test 7; more than one file per figure--illustrated here with a single file\n",
    "#plt.plotfile(fname2, cols=(0, 1), delimiter=' ')\n",
    "#plt.plotfile(fname2, cols=(0, 2), newfig=False,\n",
    "#             delimiter=' ')  # use current figure\n",
    "\n",
    "print(colored(\"NUS Sentiment distribution:\", \"blue\"))\n",
    "print(nus_sent['Sentiment'].value_counts())"
   ]
  },
  {
   "cell_type": "code",
   "execution_count": null,
   "metadata": {},
   "outputs": [],
   "source": [
    "# checking dataset of SMU\n",
    "import seaborn as sns\n",
    "smu_sent.groupby(\"Sentiment\").count()\n",
    "sns.countplot(x=\"Sentiment\", data=smu_sent, palette=\"Set1\")\n",
    "print ('SMU Tweets Sentiment')\n",
    "\n",
    "print(colored(\"SMU Sentiment distribution:\", \"grey\"))\n",
    "print(smu_sent['Sentiment'].value_counts())"
   ]
  },
  {
   "cell_type": "code",
   "execution_count": null,
   "metadata": {},
   "outputs": [],
   "source": [
    "# https://scentellegher.github.io/programming/2017/07/15/pandas-groupby-multiple-columns-plot.html\n",
    "#plot data\n",
    "fig, ax = plt.subplots(figsize=(15,7))\n",
    "data.groupby(['date','type']).count()['amount'].plot(ax=ax)\n",
    "\n",
    "# plot data\n",
    "fig, ax = plt.subplots(figsize=(15,7))\n",
    "# use unstack()\n",
    "data.groupby(['date','type']).count()['amount'].unstack().plot(ax=ax)"
   ]
  },
  {
   "cell_type": "code",
   "execution_count": null,
   "metadata": {},
   "outputs": [],
   "source": [
    "# http://blog.yhat.com/posts/aggregating-and-plotting-time-series-in-python.html"
   ]
  },
  {
   "cell_type": "code",
   "execution_count": null,
   "metadata": {},
   "outputs": [],
   "source": [
    "#dftest.date = pd.to_datetime(dftest.date).dt.to_period('y')\n",
    "#dftest.head(2)\n",
    "ntu_sent.Date = pd.to_datetime(ntu_sent.Date).dt.to_period('m')\n",
    "ntu_sent.Date.head(10)"
   ]
  },
  {
   "cell_type": "code",
   "execution_count": null,
   "metadata": {},
   "outputs": [],
   "source": [
    "ntu_sent.Date.tail(10)"
   ]
  },
  {
   "cell_type": "code",
   "execution_count": null,
   "metadata": {},
   "outputs": [],
   "source": [
    "# Explore at what sentiment by date\n",
    "from matplotlib import rcParams\n",
    "rcParams['figure.figsize'] = 11, 8\n",
    "sns.countplot(x='Date', hue='Sentiment', data = ntu_sent, palette=\"Set1\");"
   ]
  },
  {
   "cell_type": "code",
   "execution_count": null,
   "metadata": {},
   "outputs": [],
   "source": [
    "# visualize cardio with gender\n",
    "sns.countplot(x='Date',data=ntu_sent,hue='Sentiment',palette='rainbow')\n",
    "print ('Visualize NTU sentiment with date')"
   ]
  },
  {
   "cell_type": "code",
   "execution_count": null,
   "metadata": {},
   "outputs": [],
   "source": []
  },
  {
   "cell_type": "code",
   "execution_count": null,
   "metadata": {},
   "outputs": [],
   "source": []
  },
  {
   "cell_type": "code",
   "execution_count": null,
   "metadata": {},
   "outputs": [],
   "source": []
  },
  {
   "cell_type": "code",
   "execution_count": null,
   "metadata": {},
   "outputs": [],
   "source": []
  },
  {
   "cell_type": "code",
   "execution_count": null,
   "metadata": {},
   "outputs": [],
   "source": [
    "# store the vocabulary of X_train\n",
    "x_train_tokens = vectorizer.get_feature_names()\n",
    "len(x_train_tokens)\n",
    "\n",
    "# first row is negative, second row is positive reviews\n",
    "loaded_model.feature_count_.shape\n",
    "\n",
    "\n",
    "# store the number of times each token appears across each class\n",
    "negative_token_count = nb.feature_count_[0, :]\n",
    "positive_token_count = nb.feature_count_[1, :]\n",
    "\n",
    "\n",
    "# create a DataFrame of tokens with their separate one-star and five-star counts\n",
    "tokens = pd.DataFrame({'token':x_train_tokens, 'one_star':negative_token_count, 'five_star':positive_token_count}).set_index('token')\n",
    "\n",
    "\n",
    "# add 1 to one-star and five-star counts to avoid dividing by 0\n",
    "tokens['negative'] = tokens.negative + 1\n",
    "tokens['positve'] = tokens.postive + 1\n",
    "\n",
    "\n",
    "# first number is one-star reviews, second number is five-star reviews\n",
    "loaded_model.class_count_\n",
    "\n",
    "\n",
    "# convert the one-star and five-star counts into frequencies\n",
    "tokens['negative'] = tokens.negative / nb.class_count_[0]\n",
    "tokens['postive'] = tokens.postive / nb.class_count_[1]\n",
    "\n",
    "\n",
    "# calculate the ratio of five-star to one-star for each token\n",
    "tokens['postive_ratio'] = tokens.postive / tokens.negative\n",
    "\n",
    "\n",
    "# sort the DataFrame by five_star_ratio (descending order), and examine the first 10 rows\n",
    "# note: use sort() instead of sort_values() for pandas 0.16.2 and earlier\n",
    "tokens.sort_values('positve_ratio', ascending=False).head(10)\n",
    "\n",
    "\n",
    "# sort the DataFrame by five_star_ratio (ascending order), and examine the first 10 rows\n",
    "tokens.sort_values('postive_ratio', ascending=True).head(10)"
   ]
  },
  {
   "cell_type": "code",
   "execution_count": null,
   "metadata": {},
   "outputs": [],
   "source": []
  },
  {
   "cell_type": "markdown",
   "metadata": {},
   "source": [
    "# LSTM"
   ]
  },
  {
   "cell_type": "code",
   "execution_count": null,
   "metadata": {},
   "outputs": [],
   "source": [
    "# Load data\n",
    "print(colored(\"Loading train and test data\", \"yellow\"))\n",
    "train_data = pd.read_csv('C:/Users/Phu Wai Paing/Desktop/Course Books/Text and Web Mining/TrainTestSplitCSV/train.csv')\n",
    "test_data = pd.read_csv('C:/Users/Phu Wai Paing/Desktop/Course Books/Text and Web Mining/TrainTestSplitCSV/test.csv')\n",
    "print(colored(\"Data loaded\", \"yellow\"))\n",
    "\n",
    "# Tokenization\n",
    "print(colored(\"Tokenizing and padding data\", \"yellow\"))\n",
    "tokenizer = Tokenizer(num_words = 2000, split = ' ')\n",
    "tokenizer.fit_on_texts(train_data['Tweet'].astype(str).values)\n",
    "train_tweets = tokenizer.texts_to_sequences(train_data['Tweet'].astype(str).values)\n",
    "max_len = max([len(i) for i in train_tweets])\n",
    "train_tweets = pad_sequences(train_tweets, maxlen = max_len)\n",
    "test_tweets = tokenizer.texts_to_sequences(test_data['Tweet'].astype(str).values)\n",
    "test_tweets = pad_sequences(test_tweets, maxlen = max_len)\n",
    "print(colored(\"Tokenizing and padding complete\", \"yellow\"))\n",
    "\n",
    "# Building the model\n",
    "print(colored(\"Creating the LSTM model\", \"yellow\"))\n",
    "model = Sequential()\n",
    "model.add(Embedding(2000, 128, input_length = train_tweets.shape[1]))\n",
    "model.add(SpatialDropout1D(0.4))\n",
    "model.add(LSTM(256, dropout = 0.2))\n",
    "model.add(Dense(2, activation = 'softmax'))\n",
    "model.compile(loss = 'categorical_crossentropy', optimizer = 'adam', metrics = ['accuracy'])\n",
    "model.summary()\n",
    "\n",
    "# Training the model\n",
    "print(colored(\"Training the LSTM model\", \"green\"))\n",
    "history = model.fit(train_tweets, pd.get_dummies(train_data['Sentiment']).values, epochs = 1, batch_size = 128, validation_split = 0.2)\n",
    "print(colored(history, \"green\"))\n",
    "\n",
    "# Testing the model\n",
    "print(colored(\"Testing the LSTM model\", \"green\"))\n",
    "score, accuracy = model.evaluate(test_tweets, pd.get_dummies(test_data['Sentiment']).values, batch_size = 128)\n",
    "print(\"Test accuracy: {}\".format(accuracy))"
   ]
  },
  {
   "cell_type": "code",
   "execution_count": null,
   "metadata": {},
   "outputs": [],
   "source": []
  }
 ],
 "metadata": {
  "kernelspec": {
   "display_name": "Python 3",
   "language": "python",
   "name": "python3"
  },
  "language_info": {
   "codemirror_mode": {
    "name": "ipython",
    "version": 3
   },
   "file_extension": ".py",
   "mimetype": "text/x-python",
   "name": "python",
   "nbconvert_exporter": "python",
   "pygments_lexer": "ipython3",
   "version": "3.7.1"
  }
 },
 "nbformat": 4,
 "nbformat_minor": 2
}
