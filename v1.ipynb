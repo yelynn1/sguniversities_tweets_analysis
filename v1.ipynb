{
 "cells": [
  {
   "cell_type": "code",
   "execution_count": 1,
   "metadata": {},
   "outputs": [],
   "source": [
    "import pandas as pd\n",
    "import re\n",
    "import pickle\n",
    "from tqdm import tqdm_notebook\n",
    "from bs4 import BeautifulSoup\n",
    "import matplotlib.pyplot as plt\n",
    "from sklearn.feature_extraction.text import CountVectorizer,TfidfTransformer\n",
    "from sklearn.feature_extraction.text import TfidfVectorizer\n",
    "from sklearn.naive_bayes import MultinomialNB\n",
    "from sklearn.linear_model import SGDClassifier\n",
    "from sklearn import svm\n",
    "from nltk.stem.porter import PorterStemmer\n",
    "from nltk.corpus import stopwords\n",
    "from nltk.tokenize import word_tokenize\n",
    "from sklearn.model_selection import train_test_split\n",
    "from sklearn.metrics import accuracy_score\n",
    "from sklearn.metrics import precision_score\n",
    "from sklearn.metrics import recall_score"
   ]
  },
  {
   "cell_type": "markdown",
   "metadata": {},
   "source": [
    "## Read data from sentiment 140"
   ]
  },
  {
   "cell_type": "code",
   "execution_count": 2,
   "metadata": {},
   "outputs": [],
   "source": [
    "sentiment = pd.read_csv(\"sentiment140.csv\", encoding = \"ISO-8859-1\")\n",
    "sentiment.columns=['polarity','tweetid','date','nq','author','tweet']\n",
    "sentiment = sentiment.drop([\"tweetid\",\"date\",\"nq\",\"author\"],axis=1)"
   ]
  },
  {
   "cell_type": "markdown",
   "metadata": {},
   "source": [
    "## Functions for cleaning the tweets"
   ]
  },
  {
   "cell_type": "code",
   "execution_count": 3,
   "metadata": {},
   "outputs": [],
   "source": [
    "stop_words = set(stopwords.words('english'))\n",
    "\n",
    "\n",
    "\n",
    "def cleanText(s):\n",
    "    bad_chars = [';', ':', '!', '*', '(' , ')', '&','[',']','.','?','{','}']\n",
    "    non_ascii = \"\".join(i for i in s if ord(i)< 128)\n",
    "    \n",
    "    html_decoded_string = BeautifulSoup(non_ascii, \"lxml\")\n",
    "    string = html_decoded_string.string\n",
    "    \n",
    "    non_name = \" \".join((filter(lambda x:x[0]!='@', string.split())))\n",
    "    non_badchars = ''.join(filter(lambda i: i not in bad_chars, non_name))\n",
    "    non_links = re.sub(r\"http\\S+\", \"\", non_badchars)\n",
    "    \n",
    "    non_links = stopwords_stem(non_links)\n",
    "    \n",
    "    return non_links\n",
    "\n",
    "def stopwords_stem(document): \n",
    "    words = word_tokenize(document)\n",
    "    words = removeStopwords(words)\n",
    "    words = stemWords(words)\n",
    "    result = \"\"\n",
    "    for word in words:\n",
    "        result += word + \" \"\n",
    "    return result\n",
    "\n",
    "def removeStopwords(document):\n",
    "    result = []\n",
    "    for word in document:\n",
    "        if word not in stop_words:\n",
    "            result.append(word)\n",
    "    return result\n",
    "\n",
    "def stemWords(document):\n",
    "    \"\"\"Stem words in list of tokenized words\"\"\"\n",
    "    stemmer = PorterStemmer()\n",
    "    result = []\n",
    "    for word in document:\n",
    "        stem = stemmer.stem(word)\n",
    "        result.append(stem)\n",
    "    return result"
   ]
  },
  {
   "cell_type": "markdown",
   "metadata": {},
   "source": [
    "## Cleaning tweets from dataframe and transform to list\n",
    "#### Can skip if load from disk (below)"
   ]
  },
  {
   "cell_type": "code",
   "execution_count": 4,
   "metadata": {
    "scrolled": true
   },
   "outputs": [
    {
     "name": "stdout",
     "output_type": "stream",
     "text": [
      "Cleaning Tweets: \n"
     ]
    },
    {
     "data": {
      "application/vnd.jupyter.widget-view+json": {
       "model_id": "02d49d00036842f3ba6c2c5c93464ad6",
       "version_major": 2,
       "version_minor": 0
      },
      "text/plain": [
       "HBox(children=(IntProgress(value=0, max=1599999), HTML(value='')))"
      ]
     },
     "metadata": {},
     "output_type": "display_data"
    },
    {
     "name": "stderr",
     "output_type": "stream",
     "text": [
      "E:\\jupyter\\lib\\site-packages\\bs4\\__init__.py:272: UserWarning: \"b' i just received my G8 viola exam.. and its... well... .. disappointing.. :\\\\..'\" looks like a filename, not markup. You should probably open this file and pass the filehandle into Beautiful Soup.\n",
      "  ' Beautiful Soup.' % markup)\n",
      "E:\\jupyter\\lib\\site-packages\\bs4\\__init__.py:272: UserWarning: \"b'E3 ON PLAYSTATION HOME IN ABOUT AN HOUR!!!!!!!!!! \\\\../  \\\\../'\" looks like a filename, not markup. You should probably open this file and pass the filehandle into Beautiful Soup.\n",
      "  ' Beautiful Soup.' % markup)\n"
     ]
    },
    {
     "name": "stdout",
     "output_type": "stream",
     "text": [
      "\n"
     ]
    }
   ],
   "source": [
    "tweets = sentiment.tweet\n",
    "print(\"Cleaning Tweets: \")\n",
    "tweets = [cleanText(t) for t in tqdm_notebook(tweets)]\n",
    "polarity = sentiment.polarity.tolist()"
   ]
  },
  {
   "cell_type": "markdown",
   "metadata": {},
   "source": [
    "### Save the processed tweets for later use"
   ]
  },
  {
   "cell_type": "code",
   "execution_count": 5,
   "metadata": {},
   "outputs": [],
   "source": [
    "with open('tweets.pickle', 'wb') as f:\n",
    "    pickle.dump(tweets, f)\n",
    "with open('polarity.pickle', 'wb') as f:\n",
    "    pickle.dump(polarity, f)"
   ]
  },
  {
   "cell_type": "markdown",
   "metadata": {},
   "source": [
    "### Load from saved files"
   ]
  },
  {
   "cell_type": "code",
   "execution_count": 22,
   "metadata": {},
   "outputs": [],
   "source": [
    "with open('tweets.pickle', 'rb') as f:\n",
    "    tweets = pickle.load(f)\n",
    "with open('polarity.pickle', 'rb') as f:\n",
    "    polarity = pickle.load(f)"
   ]
  },
  {
   "cell_type": "code",
   "execution_count": 21,
   "metadata": {},
   "outputs": [
    {
     "name": "stdout",
     "output_type": "stream",
     "text": [
      "is upset that he can't update his Facebook by texting it... and might cry as a result  School today also. Blah!\n",
      "upset ca n't updat facebook text might cri result school today also blah \n",
      "\n",
      "@Kenichan I dived many times for the ball. Managed to save 50%  The rest go out of bounds\n",
      "I dive mani time ball manag save 50 % the rest go bound \n",
      "\n",
      "my whole body feels itchy and like its on fire \n",
      "whole bodi feel itchi like fire \n",
      "\n",
      "@nationwideclass no, it's not behaving at all. i'm mad. why am i here? because I can't see you all over there. \n",
      ", 's behav 'm mad I ca n't see \n",
      "\n",
      "@Kwesidei not the whole crew \n",
      "whole crew \n",
      "\n",
      "Need a hug \n",
      "need hug \n",
      "\n",
      "@LOLTrish hey  long time no see! Yes.. Rains a bit ,only a bit  LOL , I'm fine thanks , how's you ?\n",
      "hey long time see ye rain bit , bit lol , I 'm fine thank , 's \n",
      "\n",
      "@Tatiana_K nope they didn't have it \n",
      "nope n't \n",
      "\n",
      "@twittera que me muera ? \n",
      "que muera \n",
      "\n",
      "spring break in plain city... it's snowing \n",
      "spring break plain citi 's snow \n",
      "\n"
     ]
    }
   ],
   "source": [
    "for i in range(10):\n",
    "    print(sentiment.tweet[i])\n",
    "    print(tweets[i]+\"\\n\")"
   ]
  },
  {
   "cell_type": "code",
   "execution_count": 11,
   "metadata": {},
   "outputs": [
    {
     "data": {
      "image/png": "[encoded data removed]",
      "text/plain": [
       "<Figure size 432x288 with 1 Axes>"
      ]
     },
     "metadata": {
      "needs_background": "light"
     },
     "output_type": "display_data"
    }
   ],
   "source": [
    "sentiment.polarity.value_counts().plot(kind=\"bar\",subplots=\"True\")\n",
    "plt.show()"
   ]
  },
  {
   "cell_type": "markdown",
   "metadata": {},
   "source": [
    "### Count Vectorizer"
   ]
  },
  {
   "cell_type": "code",
   "execution_count": 15,
   "metadata": {},
   "outputs": [
    {
     "name": "stdout",
     "output_type": "stream",
     "text": [
      "Running Count Vectorizer: \n",
      "Train Test Split: \n",
      "\n",
      "Training Naive Bayes:\n",
      "Testing: \n",
      "Accuracy 0.7660018939393939\n",
      "Precision 0.7731212692733954\n",
      "\n",
      "Training SVM:\n"
     ]
    },
    {
     "name": "stderr",
     "output_type": "stream",
     "text": [
      "E:\\jupyter\\lib\\site-packages\\sklearn\\svm\\base.py:929: ConvergenceWarning: Liblinear failed to converge, increase the number of iterations.\n",
      "  \"the number of iterations.\", ConvergenceWarning)\n"
     ]
    },
    {
     "name": "stdout",
     "output_type": "stream",
     "text": [
      "Testing: \n",
      "\n",
      "Accuracy 0.7692935606060606\n",
      "Precision 0.7575905779381451\n"
     ]
    }
   ],
   "source": [
    "print(\"Running Count Vectorizer: \")\n",
    "count_vectorizer = CountVectorizer(binary=True)\n",
    "train_vector = count_vectorizer.fit_transform(tweets)\n",
    "\n",
    "print(\"Train Test Split: \")\n",
    "X_train, X_test, y_train, y_test = train_test_split(train_vector, polarity, test_size=0.33, random_state=123)\n",
    "\n",
    "print(\"\\nTraining Naive Bayes:\")\n",
    "clf = MultinomialNB().fit(X_train, y_train)\n",
    "\n",
    "print(\"Testing: \")\n",
    "predicted = clf.predict(X_test)\n",
    "\n",
    "print(\"Accuracy\" , accuracy_score(y_test, predicted))\n",
    "print(\"Precision\" , precision_score(y_test, predicted, pos_label=4))\n",
    "\n",
    "print(\"\\nTraining SVM:\")\n",
    "svmclf = svm.LinearSVC().fit(X_train, y_train)\n",
    "\n",
    "print(\"Testing: \")\n",
    "predicted = svmclf.predict(X_test)\n",
    "\n",
    "print(\"\\nAccuracy\" , accuracy_score(y_test, predicted))\n",
    "print(\"Precision\" , precision_score(y_test, predicted, pos_label=4))"
   ]
  },
  {
   "cell_type": "markdown",
   "metadata": {},
   "source": [
    "### TF-IDF"
   ]
  },
  {
   "cell_type": "code",
   "execution_count": 16,
   "metadata": {},
   "outputs": [
    {
     "name": "stdout",
     "output_type": "stream",
     "text": [
      "Running TF-IDF Vectorizer: \n",
      "Train Test Split: \n",
      "\n",
      "Training Naive Bayes:\n",
      "Testing: \n",
      "Accuracy 0.7585189393939394\n",
      "Precision 0.7656219598564857\n",
      "\n",
      "Training SVM:\n"
     ]
    },
    {
     "name": "stderr",
     "output_type": "stream",
     "text": [
      "E:\\jupyter\\lib\\site-packages\\sklearn\\svm\\base.py:929: ConvergenceWarning: Liblinear failed to converge, increase the number of iterations.\n",
      "  \"the number of iterations.\", ConvergenceWarning)\n"
     ]
    },
    {
     "name": "stdout",
     "output_type": "stream",
     "text": [
      "Testing: \n",
      "\n",
      "Accuracy 0.7704848484848484\n",
      "Precision 0.7592568391705872\n"
     ]
    }
   ],
   "source": [
    "print(\"Running TF-IDF Vectorizer: \")\n",
    "tfidf_vectorizer = TfidfVectorizer()\n",
    "train_vector = tfidf_vectorizer.fit_transform(tweets)\n",
    "\n",
    "print(\"Train Test Split: \")\n",
    "X_train, X_test, y_train, y_test = train_test_split(train_vector, polarity, test_size=0.33, random_state=123)\n",
    "\n",
    "print(\"\\nTraining Naive Bayes:\")\n",
    "nbclf = MultinomialNB().fit(X_train, y_train)\n",
    "\n",
    "print(\"Testing: \")\n",
    "predicted = nbclf.predict(X_test)\n",
    "\n",
    "print(\"Accuracy\" , accuracy_score(y_test, predicted))\n",
    "print(\"Precision\" , precision_score(y_test, predicted, pos_label=4))\n",
    "\n",
    "print(\"\\nTraining SVM:\")\n",
    "svmclf = svm.LinearSVC().fit(X_train, y_train)\n",
    "\n",
    "print(\"Testing: \")\n",
    "predicted = svmclf.predict(X_test)\n",
    "\n",
    "print(\"\\nAccuracy\" , accuracy_score(y_test, predicted))\n",
    "print(\"Precision\" , precision_score(y_test, predicted, pos_label=4))"
   ]
  },
  {
   "cell_type": "markdown",
   "metadata": {},
   "source": [
    "### TF-IDF N-gram"
   ]
  },
  {
   "cell_type": "code",
   "execution_count": 17,
   "metadata": {},
   "outputs": [
    {
     "name": "stdout",
     "output_type": "stream",
     "text": [
      "Running TF-IDF with N-gram Vectorizer\n",
      "Train Test Split: \n",
      "\n",
      "Training Naive Bayes:\n",
      "Testing: \n",
      "Accuracy 0.7803768939393939\n",
      "Precision 0.792362891027641\n",
      "\n",
      "Training SVM:\n"
     ]
    },
    {
     "name": "stderr",
     "output_type": "stream",
     "text": [
      "E:\\jupyter\\lib\\site-packages\\sklearn\\svm\\base.py:929: ConvergenceWarning: Liblinear failed to converge, increase the number of iterations.\n",
      "  \"the number of iterations.\", ConvergenceWarning)\n"
     ]
    },
    {
     "name": "stdout",
     "output_type": "stream",
     "text": [
      "Testing: \n",
      "\n",
      "Accuracy 0.7851117424242424\n",
      "Precision 0.7740475800433207\n"
     ]
    }
   ],
   "source": [
    "print(\"Running TF-IDF with N-gram Vectorizer\")\n",
    "ngram = (1,2)\n",
    "tfidf_ngram_vectorizer = TfidfVectorizer(ngram_range = ngram)\n",
    "train_vector = tfidf_ngram_vectorizer.fit_transform(tweets)\n",
    "\n",
    "print(\"Train Test Split: \")\n",
    "X_train, X_test, y_train, y_test = train_test_split(train_vector, polarity, test_size=0.33, random_state=123)\n",
    "\n",
    "print(\"\\nTraining Naive Bayes:\")\n",
    "ngclf = MultinomialNB().fit(X_train, y_train)\n",
    "\n",
    "print(\"Testing: \")\n",
    "predicted = ngclf.predict(X_test)\n",
    "\n",
    "print(\"Accuracy\" , accuracy_score(y_test, predicted))\n",
    "print(\"Precision\" , precision_score(y_test, predicted, pos_label=4))\n",
    "\n",
    "print(\"\\nTraining SVM:\")\n",
    "svmclf = svm.LinearSVC().fit(X_train, y_train)\n",
    "\n",
    "print(\"Testing: \")\n",
    "predicted = svmclf.predict(X_test)\n",
    "\n",
    "print(\"\\nAccuracy\" , accuracy_score(y_test, predicted))\n",
    "print(\"Precision\" , precision_score(y_test, predicted, pos_label=4))"
   ]
  }
 ],
 "metadata": {
  "kernelspec": {
   "display_name": "Python 3",
   "language": "python",
   "name": "python3"
  },
  "language_info": {
   "codemirror_mode": {
    "name": "ipython",
    "version": 3
   },
   "file_extension": ".py",
   "mimetype": "text/x-python",
   "name": "python",
   "nbconvert_exporter": "python",
   "pygments_lexer": "ipython3",
   "version": "3.7.3"
  }
 },
 "nbformat": 4,
 "nbformat_minor": 2
}
