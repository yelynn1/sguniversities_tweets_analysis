{
 "cells": [
  {
   "cell_type": "code",
   "execution_count": 34,
   "metadata": {},
   "outputs": [],
   "source": [
    "from bs4 import BeautifulSoup\n",
    "import re"
   ]
  },
  {
   "cell_type": "code",
   "execution_count": 40,
   "metadata": {},
   "outputs": [
    {
     "data": {
      "text/plain": [
       "\"#NotNotPyramidScheme #MLM's on New Illegal Tender series on Feb. 27 #GigEconomy #SideHustle #BossBabe  / $HLF $NUS $USNA $MED $TUP #Arbonne #LulaRoe etc.  \""
      ]
     },
     "execution_count": 40,
     "metadata": {},
     "output_type": "execute_result"
    }
   ],
   "source": [
    "def removeNonAsciiAndNames(s):\n",
    "    bad_chars = [';', ':', '!', '*', '(' , ')', '&']\n",
    "    non_ascii = \"\".join(i for i in s if ord(i)< 128)\n",
    "    html_decoded_string = BeautifulSoup(non_ascii, \"lxml\")\n",
    "    string = html_decoded_string.string\n",
    "    non_name = \" \".join((filter(lambda x:x[0]!='@', string.split())))\n",
    "    non_badchars = ''.join(filter(lambda i: i not in bad_chars, non_name))\n",
    "    non_links = re.sub(r\"http\\S+\", \"\", non_badchars)\n",
    "    return non_links\n",
    "\n",
    "removeNonAsciiAndNames(\"#NotNotPyramidScheme #MLM's on New Illegal Tender series on Feb. 27 #GigEconomy #SideHustle #BossBabe https://t.co/iml91ExVlB / $HLF $NUS $USNA $MED $TUP #Arbonne #LulaRoe etc. https://t.co/Fj78PqfEJL https://t.co/3unHXPdG3z\")\n"
   ]
  }
 ],
 "metadata": {
  "kernelspec": {
   "display_name": "Python 3",
   "language": "python",
   "name": "python3"
  },
  "language_info": {
   "codemirror_mode": {
    "name": "ipython",
    "version": 3
   },
   "file_extension": ".py",
   "mimetype": "text/x-python",
   "name": "python",
   "nbconvert_exporter": "python",
   "pygments_lexer": "ipython3",
   "version": "3.7.4"
  }
 },
 "nbformat": 4,
 "nbformat_minor": 2
}
