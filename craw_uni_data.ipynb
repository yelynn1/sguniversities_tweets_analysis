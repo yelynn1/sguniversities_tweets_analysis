{
 "cells": [
  {
   "cell_type": "markdown",
   "metadata": {},
   "source": [
    "### Import Libraries"
   ]
  },
  {
   "cell_type": "code",
   "execution_count": 1,
   "metadata": {},
   "outputs": [],
   "source": [
    "import pandas as pd\n",
    "import tweepy\n",
    "import spacy"
   ]
  },
  {
   "cell_type": "markdown",
   "metadata": {},
   "source": [
    "### Authenticate Twitter"
   ]
  },
  {
   "cell_type": "code",
   "execution_count": 2,
   "metadata": {},
   "outputs": [],
   "source": [
    "consumer_key = \"oYPnahnpntB67ZN6RwHQWJQg4\"\n",
    "consumer_secret = \"ns9pmChOswLPesSMWzBq68BgwqXtRpx1eKe73f5SsYC78Bukp6\"\n",
    "access_token = \"58218421-n2TD2tKbbLp5uvS2WnlfX82e3lVKCjh3UUvNvW217\"\n",
    "access_token_secret = \"ILrE8AmSyjAQfa3yxK6eYHodBLfnguJQYrBHinzW5fH2C\""
   ]
  },
  {
   "cell_type": "code",
   "execution_count": 3,
   "metadata": {},
   "outputs": [
    {
     "data": {
      "text/plain": [
       "'Ye Lynn Khant'"
      ]
     },
     "execution_count": 3,
     "metadata": {},
     "output_type": "execute_result"
    }
   ],
   "source": [
    "# Creating the authentication object\n",
    "auth = tweepy.OAuthHandler(consumer_key, consumer_secret)\n",
    "# Setting your access token and secret\n",
    "auth.set_access_token(access_token, access_token_secret)\n",
    "# Creating the API object while passing in auth information\n",
    "api = tweepy.API(auth)\n",
    "api.verify_credentials().name"
   ]
  },
  {
   "cell_type": "markdown",
   "metadata": {},
   "source": [
    "### Define Search Keywords"
   ]
  },
  {
   "cell_type": "code",
   "execution_count": 4,
   "metadata": {},
   "outputs": [],
   "source": [
    "search_words = 'smu OR \"singapore management university\"'\n",
    "#filter retweets\n",
    "search_words = search_words + \" -filter:retweets\"\n",
    "\n",
    "num_records = 1500"
   ]
  },
  {
   "cell_type": "markdown",
   "metadata": {},
   "source": [
    "### Call the search API"
   ]
  },
  {
   "cell_type": "code",
   "execution_count": 5,
   "metadata": {},
   "outputs": [],
   "source": [
    "tweets = tweepy.Cursor(api.search,\n",
    "              q=search_words,\n",
    "              lang=\"en\",\n",
    "            tweet_mode=\"extended\",\n",
    "                      since_id=\"2000-01-01\").items(num_records)"
   ]
  },
  {
   "cell_type": "markdown",
   "metadata": {},
   "source": [
    "### Create Pandas Dataframe from results"
   ]
  },
  {
   "cell_type": "code",
   "execution_count": 6,
   "metadata": {},
   "outputs": [],
   "source": [
    "dlist = [[t.user.name,t.full_text,t.created_at,t.id] for t in tweets]\n",
    "df = pd.DataFrame(data=dlist,columns=['user','tweet','date_tweet','tweet_id'])"
   ]
  },
  {
   "cell_type": "markdown",
   "metadata": {},
   "source": [
    "### Get the size of the data"
   ]
  },
  {
   "cell_type": "code",
   "execution_count": 7,
   "metadata": {},
   "outputs": [
    {
     "data": {
      "text/plain": [
       "(10, 4)"
      ]
     },
     "execution_count": 7,
     "metadata": {},
     "output_type": "execute_result"
    }
   ],
   "source": [
    "df.shape"
   ]
  },
  {
   "cell_type": "markdown",
   "metadata": {},
   "source": [
    "### Insert the new column (keyword) to the Dataframe"
   ]
  },
  {
   "cell_type": "code",
   "execution_count": 8,
   "metadata": {},
   "outputs": [],
   "source": [
    "df['keyword']=\"smu,singapore management university\""
   ]
  },
  {
   "cell_type": "markdown",
   "metadata": {},
   "source": [
    "### Get the sample from the Dataset for verification"
   ]
  },
  {
   "cell_type": "code",
   "execution_count": 9,
   "metadata": {},
   "outputs": [
    {
     "data": {
      "text/html": [
       "<div>\n",
       "<style scoped>\n",
       "    .dataframe tbody tr th:only-of-type {\n",
       "        vertical-align: middle;\n",
       "    }\n",
       "\n",
       "    .dataframe tbody tr th {\n",
       "        vertical-align: top;\n",
       "    }\n",
       "\n",
       "    .dataframe thead th {\n",
       "        text-align: right;\n",
       "    }\n",
       "</style>\n",
       "<table border=\"1\" class=\"dataframe\">\n",
       "  <thead>\n",
       "    <tr style=\"text-align: right;\">\n",
       "      <th></th>\n",
       "      <th>user</th>\n",
       "      <th>tweet</th>\n",
       "      <th>date_tweet</th>\n",
       "      <th>tweet_id</th>\n",
       "      <th>keyword</th>\n",
       "    </tr>\n",
       "  </thead>\n",
       "  <tbody>\n",
       "    <tr>\n",
       "      <th>3</th>\n",
       "      <td>Al</td>\n",
       "      <td>Good morning Tweetie Pies Happy Sunday!</td>\n",
       "      <td>2020-04-19 11:20:46</td>\n",
       "      <td>1251833113103273992</td>\n",
       "      <td>smu,singapore management university</td>\n",
       "    </tr>\n",
       "    <tr>\n",
       "      <th>4</th>\n",
       "      <td>oWs tAlagA?</td>\n",
       "      <td>Smu, paascu accredited level 3 already cancell...</td>\n",
       "      <td>2020-04-19 11:14:01</td>\n",
       "      <td>1251831414816862208</td>\n",
       "      <td>smu,singapore management university</td>\n",
       "    </tr>\n",
       "    <tr>\n",
       "      <th>1</th>\n",
       "      <td>SMU</td>\n",
       "      <td>@Minabis2 So what are you trying to portray by...</td>\n",
       "      <td>2020-04-19 11:54:42</td>\n",
       "      <td>1251841650055426048</td>\n",
       "      <td>smu,singapore management university</td>\n",
       "    </tr>\n",
       "    <tr>\n",
       "      <th>0</th>\n",
       "      <td>The Big Orange Gun</td>\n",
       "      <td>@jimharris360 @MichaelWBratton SMU won 10 game...</td>\n",
       "      <td>2020-04-19 12:04:57</td>\n",
       "      <td>1251844230445662210</td>\n",
       "      <td>smu,singapore management university</td>\n",
       "    </tr>\n",
       "    <tr>\n",
       "      <th>2</th>\n",
       "      <td>L•D•S</td>\n",
       "      <td>Making something that transports people to a m...</td>\n",
       "      <td>2020-04-19 11:30:05</td>\n",
       "      <td>1251835454833344512</td>\n",
       "      <td>smu,singapore management university</td>\n",
       "    </tr>\n",
       "    <tr>\n",
       "      <th>6</th>\n",
       "      <td>himawari love bot ♡</td>\n",
       "      <td>hello i'll log out this account for a moment. ...</td>\n",
       "      <td>2020-04-19 10:24:25</td>\n",
       "      <td>1251818930416451584</td>\n",
       "      <td>smu,singapore management university</td>\n",
       "    </tr>\n",
       "    <tr>\n",
       "      <th>7</th>\n",
       "      <td>Christian Coker</td>\n",
       "      <td>My 2 favorite prosects this year:\\n\\n-Amik Rob...</td>\n",
       "      <td>2020-04-19 10:16:44</td>\n",
       "      <td>1251816998008270848</td>\n",
       "      <td>smu,singapore management university</td>\n",
       "    </tr>\n",
       "    <tr>\n",
       "      <th>5</th>\n",
       "      <td>Sven Mueller</td>\n",
       "      <td>3. #F5 #DDoS article: Understand what effect t...</td>\n",
       "      <td>2020-04-19 11:05:39</td>\n",
       "      <td>1251829307586084864</td>\n",
       "      <td>smu,singapore management university</td>\n",
       "    </tr>\n",
       "    <tr>\n",
       "      <th>9</th>\n",
       "      <td>Gridiron</td>\n",
       "      <td>As one of the programme's receivers finds hims...</td>\n",
       "      <td>2020-04-19 10:12:01</td>\n",
       "      <td>1251815809367900161</td>\n",
       "      <td>smu,singapore management university</td>\n",
       "    </tr>\n",
       "    <tr>\n",
       "      <th>8</th>\n",
       "      <td>Buchyo</td>\n",
       "      <td>@SMU_SA Good</td>\n",
       "      <td>2020-04-19 10:15:28</td>\n",
       "      <td>1251816680113799169</td>\n",
       "      <td>smu,singapore management university</td>\n",
       "    </tr>\n",
       "  </tbody>\n",
       "</table>\n",
       "</div>"
      ],
      "text/plain": [
       "                  user                                              tweet  \\\n",
       "3                   Al            Good morning Tweetie Pies Happy Sunday!   \n",
       "4          oWs tAlagA?  Smu, paascu accredited level 3 already cancell...   \n",
       "1                  SMU  @Minabis2 So what are you trying to portray by...   \n",
       "0   The Big Orange Gun  @jimharris360 @MichaelWBratton SMU won 10 game...   \n",
       "2                L•D•S  Making something that transports people to a m...   \n",
       "6  himawari love bot ♡  hello i'll log out this account for a moment. ...   \n",
       "7      Christian Coker  My 2 favorite prosects this year:\\n\\n-Amik Rob...   \n",
       "5         Sven Mueller  3. #F5 #DDoS article: Understand what effect t...   \n",
       "9             Gridiron  As one of the programme's receivers finds hims...   \n",
       "8               Buchyo                                       @SMU_SA Good   \n",
       "\n",
       "           date_tweet             tweet_id  \\\n",
       "3 2020-04-19 11:20:46  1251833113103273992   \n",
       "4 2020-04-19 11:14:01  1251831414816862208   \n",
       "1 2020-04-19 11:54:42  1251841650055426048   \n",
       "0 2020-04-19 12:04:57  1251844230445662210   \n",
       "2 2020-04-19 11:30:05  1251835454833344512   \n",
       "6 2020-04-19 10:24:25  1251818930416451584   \n",
       "7 2020-04-19 10:16:44  1251816998008270848   \n",
       "5 2020-04-19 11:05:39  1251829307586084864   \n",
       "9 2020-04-19 10:12:01  1251815809367900161   \n",
       "8 2020-04-19 10:15:28  1251816680113799169   \n",
       "\n",
       "                               keyword  \n",
       "3  smu,singapore management university  \n",
       "4  smu,singapore management university  \n",
       "1  smu,singapore management university  \n",
       "0  smu,singapore management university  \n",
       "2  smu,singapore management university  \n",
       "6  smu,singapore management university  \n",
       "7  smu,singapore management university  \n",
       "5  smu,singapore management university  \n",
       "9  smu,singapore management university  \n",
       "8  smu,singapore management university  "
      ]
     },
     "execution_count": 9,
     "metadata": {},
     "output_type": "execute_result"
    }
   ],
   "source": [
    "df.sample(10)"
   ]
  },
  {
   "cell_type": "markdown",
   "metadata": {},
   "source": [
    "### Write the Dataframe to the CSV file"
   ]
  },
  {
   "cell_type": "code",
   "execution_count": 10,
   "metadata": {},
   "outputs": [],
   "source": [
    "df.to_csv(\"smu.csv\")"
   ]
  },
  {
   "cell_type": "code",
   "execution_count": 12,
   "metadata": {},
   "outputs": [
    {
     "data": {
      "text/plain": [
       "(1397, 6)"
      ]
     },
     "execution_count": 12,
     "metadata": {},
     "output_type": "execute_result"
    }
   ],
   "source": [
    "ntu = pd.read_csv(\"nus.csv\")\n",
    "ntu.shape"
   ]
  }
 ],
 "metadata": {
  "kernelspec": {
   "display_name": "Python 3",
   "language": "python",
   "name": "python3"
  },
  "language_info": {
   "codemirror_mode": {
    "name": "ipython",
    "version": 3
   },
   "file_extension": ".py",
   "mimetype": "text/x-python",
   "name": "python",
   "nbconvert_exporter": "python",
   "pygments_lexer": "ipython3",
   "version": "3.7.3"
  }
 },
 "nbformat": 4,
 "nbformat_minor": 2
}
